{
 "cells": [
  {
   "cell_type": "markdown",
   "id": "9477f12e",
   "metadata": {},
   "source": [
    "# Covariance, Correlation, and Ordinary Least Squares Regression\n",
    "\n",
    "For this lab, we will be using some randomly-generated data that I have made available on Github. "
   ]
  },
  {
   "cell_type": "code",
   "execution_count": null,
   "id": "be7b37e9",
   "metadata": {
    "vscode": {
     "languageId": "r"
    }
   },
   "outputs": [],
   "source": [
    "# load necessary packages using pacman\n",
    "\n",
    "install.packages('pacman')\n",
    "\n",
    "pacman::p_load(tidyverse)"
   ]
  },
  {
   "cell_type": "code",
   "execution_count": null,
   "id": "8e7ca54f",
   "metadata": {
    "vscode": {
     "languageId": "r"
    }
   },
   "outputs": [],
   "source": [
    "# ingest the data from github and store as \"fake\"\n",
    "fake <- read.csv(\"https://raw.githubusercontent.com/bowendc/pol200_labs/refs/heads/main/fake.csv\")"
   ]
  },
  {
   "cell_type": "markdown",
   "id": "f2be03aa",
   "metadata": {},
   "source": [
    "## Covariance and Correlation\n",
    "\n",
    "Covariance and correlation are fairly easy to calculate in base R with built-in functions from the core **stats** package. But first, let's take a quick look at the relationship."
   ]
  },
  {
   "cell_type": "code",
   "execution_count": null,
   "id": "f18fec16",
   "metadata": {
    "vscode": {
     "languageId": "r"
    }
   },
   "outputs": [],
   "source": [
    "# a really quick look at the relationship between x and y \n",
    "plot(fake$x, fake$y)"
   ]
  },
  {
   "cell_type": "markdown",
   "id": "1964a385",
   "metadata": {},
   "source": [
    "Now, let's calculate COV(XY)."
   ]
  },
  {
   "cell_type": "code",
   "execution_count": null,
   "id": "2d9767ed",
   "metadata": {
    "vscode": {
     "languageId": "r"
    }
   },
   "outputs": [],
   "source": [
    "# the use = pairwise.complete.obs argument will keep any observation with\n",
    "# non-missing data on both x and y. \n",
    "cov(fake$x, fake$y, use = \"pairwise.complete.obs\")"
   ]
  },
  {
   "cell_type": "markdown",
   "id": "29b94ca4",
   "metadata": {},
   "source": [
    "Again, covariance is hard to interpret. Instead, we typically standardize covariance by dividing by the standard deviation. When we do that, we get Pearson's *r* correlation coefficient. "
   ]
  },
  {
   "cell_type": "code",
   "execution_count": null,
   "id": "1cf12102",
   "metadata": {
    "vscode": {
     "languageId": "r"
    }
   },
   "outputs": [],
   "source": [
    "cor(fake$x, fake$y, use = \"pairwise.complete.obs\")"
   ]
  },
  {
   "cell_type": "markdown",
   "id": "f1750210",
   "metadata": {},
   "source": [
    "We can save this or format by rounding:"
   ]
  },
  {
   "cell_type": "code",
   "execution_count": null,
   "id": "da943196",
   "metadata": {
    "vscode": {
     "languageId": "r"
    }
   },
   "outputs": [],
   "source": [
    "r <- cor(fake$x, fake$y, use = \"pairwise.complete.obs\")\n",
    "r <- round(r, 3)\n",
    "r"
   ]
  },
  {
   "cell_type": "markdown",
   "id": "cf95a145",
   "metadata": {},
   "source": [
    "How about we check R's work by calculating *r* step by step ourselves? We can do so easily."
   ]
  },
  {
   "cell_type": "code",
   "execution_count": null,
   "id": "829cbb31",
   "metadata": {
    "vscode": {
     "languageId": "r"
    }
   },
   "outputs": [],
   "source": [
    "# calculate the deviations of x and y from their means and divide by their standard deviations\n",
    "fake$x_stand <- (fake$x - mean(fake$x, na.rm = TRUE)) / sd(fake$x, na.rm = TRUE)\n",
    "fake$y_stand <- (fake$y - mean(fake$y, na.rm = TRUE)) / sd(fake$y, na.rm = TRUE)\n",
    "\n",
    "# multiple standardized deviations together, observation by observation\n",
    "fake$xy <- fake$x_stand * fake$y_stand\n",
    "\n",
    "# check the data to see if it is working\n",
    "head(fake)\n",
    "\n",
    "# summarize to calculate final score\n",
    "fake |> \n",
    "    filter(!is.na(xy)) |> \n",
    "    summarize(total = sum(xy),\n",
    "              n = n()) |>\n",
    "    mutate(r = total / (n - 1))\n"
   ]
  },
  {
   "cell_type": "markdown",
   "id": "9f2d38ae",
   "metadata": {},
   "source": [
    "Hey look, this matches what we got from R's `cor()` function!"
   ]
  },
  {
   "cell_type": "markdown",
   "id": "ac95c983",
   "metadata": {},
   "source": [
    "## Ordinary Least Squares\n",
    "\n",
    "We will be doing a TON of OLS modeling in this class. For now, let's just go over the basics. We can conduct an OLS regression using `lm()` for \"Linear Models.\" Here is the syntax:"
   ]
  },
  {
   "cell_type": "code",
   "execution_count": null,
   "id": "f7b5e07a",
   "metadata": {
    "vscode": {
     "languageId": "r"
    }
   },
   "outputs": [],
   "source": [
    "lm(y ~ x, data = fake)"
   ]
  },
  {
   "cell_type": "markdown",
   "id": "cc7dd3c4",
   "metadata": {},
   "source": [
    "We will typically want to store model output for working with later (predicting, calculating residuals, creating tables of regression results, etc)."
   ]
  },
  {
   "cell_type": "code",
   "execution_count": null,
   "id": "a0bd793c",
   "metadata": {
    "vscode": {
     "languageId": "r"
    }
   },
   "outputs": [],
   "source": [
    "m1 <- lm(y ~ x, data = fake)\n",
    "\n",
    "# summary() gives a quick print out of OLS\n",
    "# results with some additional info, including the R2 score\n",
    "summary(m1)"
   ]
  },
  {
   "cell_type": "markdown",
   "id": "1aa73e0e",
   "metadata": {},
   "source": [
    "Since we've stored the model results, we can pull out those estimates when we need them. Below, let's store our coefficients as `a` and `b` for easy use."
   ]
  },
  {
   "cell_type": "code",
   "execution_count": null,
   "id": "9fbf9886",
   "metadata": {
    "vscode": {
     "languageId": "r"
    }
   },
   "outputs": [],
   "source": [
    "coefficients(m1)\n",
    "\n",
    "# we need to use as.numeric() to get R to store the pulled\n",
    "#   results as a number for calculating\n",
    "\n",
    "a <- as.numeric(coefficients(m1)[\"(Intercept)\"])\n",
    "b <- as.numeric(coefficients(m1)[\"x\"]) \n",
    "a\n",
    "b"
   ]
  },
  {
   "cell_type": "markdown",
   "id": "b836388c",
   "metadata": {},
   "source": [
    "Now that we can access the model parameters easily, let's generate some predictions from our regression results! "
   ]
  },
  {
   "cell_type": "code",
   "execution_count": null,
   "id": "e36d526c",
   "metadata": {
    "vscode": {
     "languageId": "r"
    }
   },
   "outputs": [],
   "source": [
    "# first, find min, max, mean, and sd of x:\n",
    "xmin <- min(fake$x, na.rm = TRUE)\n",
    "xmax <- max(fake$x, na.rm = TRUE)\n",
    "xmean <- mean(fake$x, na.rm = TRUE)\n",
    "xsd <- sd(fake$x, na.rm = TRUE)\n",
    "\n",
    "# calculate the predicted values of y when x is at min, mean, and max values:\n",
    "a + b*xmin\n",
    "a + b*xmean\n",
    "a + b*xmax"
   ]
  },
  {
   "cell_type": "markdown",
   "id": "5491583e",
   "metadata": {},
   "source": [
    "Remember, the coefficient for `x` tells us how `y` changes, on average, when `x` goes up 1 unit. But we can play around with other sizes of changes of `x`, simply by multiplying the coefficient by other relevant values. "
   ]
  },
  {
   "cell_type": "code",
   "execution_count": null,
   "id": "0565b0de",
   "metadata": {
    "vscode": {
     "languageId": "r"
    }
   },
   "outputs": [],
   "source": [
    "# calculate what would happen to predicted value of y if x went up by 1 SD:\n",
    "xsd * b\n",
    "\n",
    "# calculate what would happen to predicted value of y if x moved from min to max values:\n",
    "(xmax - xmin)*b"
   ]
  }
 ],
 "metadata": {
  "kernelspec": {
   "display_name": "R",
   "language": "R",
   "name": "ir"
  },
  "language_info": {
   "codemirror_mode": "r",
   "file_extension": ".r",
   "mimetype": "text/x-r-source",
   "name": "R",
   "pygments_lexer": "r",
   "version": "4.5.1"
  }
 },
 "nbformat": 4,
 "nbformat_minor": 5
}
