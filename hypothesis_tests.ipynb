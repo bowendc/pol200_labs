{
 "cells": [
  {
   "cell_type": "markdown",
   "id": "d0f5e1f1",
   "metadata": {},
   "source": [
    "# Bivariate Hypothesis Tests\n",
    "\n",
    "When conducting a cross-tab or a mean comparison test earlier in the semester, we were unable to say whether any difference in the dependent variable was \"big enough\". Well, hypothesis testing gives one way to make that determination. Is the observed relationship large enough that we are confident it is not a result of sampling error? Let's revisit our basic comparison tests from several weeks ago."
   ]
  },
  {
   "cell_type": "code",
   "execution_count": null,
   "id": "e3aa42a1",
   "metadata": {
    "vscode": {
     "languageId": "r"
    }
   },
   "outputs": [],
   "source": [
    "# load necessary packages - install only if needed\n",
    "\n",
    "#install.packages('pacman')\n",
    "\n",
    "pacman::p_load(tidyverse, modelsummary)\n",
    "\n",
    "# ingest survey data \n",
    "survey.df <- read.csv(\"https://raw.githubusercontent.com/bowendc/pol200_labs/refs/heads/main/simple_survey.csv\")"
   ]
  },
  {
   "cell_type": "markdown",
   "id": "07337bd2",
   "metadata": {},
   "source": [
    "If you recall, these data contain survey data on demographic characteristics of the survey respondents and whether (and degree) of interaction they have had with their state legislators."
   ]
  },
  {
   "cell_type": "markdown",
   "id": "b09e3f5f",
   "metadata": {},
   "source": [
    "## Hypothesis testing for cross-tabs with $\\chi ^2$ tests\n",
    "\n",
    "We can use the `chisq.test` function to conduct a $\\chi ^2$ test. Just create your crosstab and store it as matrix in R; then call it up inside of `chisq.test()`. Notice in the block below that it uses frequencies, not column percentages.  "
   ]
  },
  {
   "cell_type": "code",
   "execution_count": null,
   "id": "9dbe09e0",
   "metadata": {
    "vscode": {
     "languageId": "r"
    }
   },
   "outputs": [],
   "source": [
    "\n",
    "# create the table with joint frequencies (counts)\n",
    "# syntax: table(df$y, df$x)\n",
    "# here we store the crosstab in the object matrix ct for future use\n",
    "ct <- table(survey.df$cntrep_opinion, survey.df$income)\n",
    "ct\n",
    "\n",
    "# we can clean the code by rounding. \n",
    "round(prop.table(ct, 2), 2)\n",
    "\n",
    "chisq.test(ct)\n"
   ]
  },
  {
   "cell_type": "markdown",
   "id": "31481add",
   "metadata": {},
   "source": [
    "The function provides the test statistic, which is the calculated value of $\\chi ^2$, then it calculates the probability we would get a value that large (given the degrees of freedom) by chance if the null were true. We could check the function's work by calculating the p-value ourselves:"
   ]
  },
  {
   "cell_type": "code",
   "execution_count": null,
   "id": "2c49d24e",
   "metadata": {
    "vscode": {
     "languageId": "r"
    }
   },
   "outputs": [],
   "source": [
    "1 - pchisq(13.38, 3)"
   ]
  },
  {
   "cell_type": "markdown",
   "id": "6d675d35",
   "metadata": {},
   "source": [
    "## Difference of means and proportions tests \n",
    "\n",
    "When conducting a mean comparison test, we can use a difference of means or difference of proportions test. The difference of means test, known as an *independent samples* t-test, is appropriate when the dependent variable is continuous. The difference of proportions tests is appropritate when the dependent variable is a 0,1 dichotomous variable. In both cases, our independent variable must be grouped into ***only*** two categories. In other words, you can only compare two means or proportions! In both tests, we need to process the dataframes a bit to get our data in the form these functions expect. \n",
    "\n",
    "### Difference of means\n",
    "\n",
    "Use the `t.test()` function. There are several important arguments in this function. The defaults are to use the formula for unequal variances in your two groups, to conduct a two-tailed test, and to create a 95% confidence interval. All of these can be changed as needed, but will typically be what you will want to use. Note that the function accepts vectors of data for `x` and `y`, so below we use `filter()` and `select()` to grab just the data we need."
   ]
  },
  {
   "cell_type": "code",
   "execution_count": null,
   "id": "a140064b",
   "metadata": {
    "vscode": {
     "languageId": "r"
    }
   },
   "outputs": [],
   "source": [
    "# t.test expects a vector (single column) of data. Here,\n",
    "#  we give two columns, one of y where women ==0 and one \n",
    "#  of y where women ==1. Need to use select() at end to \n",
    "#  have only a single vector from your dataframe\n",
    "\n",
    "t.test(x = survey.df |> filter(women == 0) |> select(interactions), \n",
    "       y = survey.df |> filter(women == 1) |> select(interactions),\n",
    "       mu = 0,            # test is that true diff is 0\n",
    "       var.equal = FALSE, # does not assume equal variances; the default \n",
    "       conf.level = .95)  # default CL is .95 \n",
    "                          # you could use different conf levels, like .90 or .99"
   ]
  },
  {
   "cell_type": "markdown",
   "id": "136bf06d",
   "metadata": {},
   "source": [
    "### Difference of Sample Proportions\n",
    "\n",
    "The `prop.test` function lets us test for the difference between two proportions. I think the easiest way to use this function is to first calculate the number of observations coded 1 on the dependent variable and the total number of observations, both grouped by the independent variable. We can do that using the standard `dplyr` functions and store for easy access. Then we call them back up inside of `prop.test()` \n"
   ]
  },
  {
   "cell_type": "code",
   "execution_count": null,
   "id": "1018b2e0",
   "metadata": {
    "vscode": {
     "languageId": "r"
    }
   },
   "outputs": [],
   "source": [
    "# quickly use dplyr syntax to get counts of successes (1s) out of all obs by IV\n",
    "props <- survey.df |> \n",
    "              filter(!is.na(women) & !is.na(cntrep_opinions)) |> # filter out NAs\n",
    "              group_by(women) |>                                 # group by IV\n",
    "              summarize(successes = sum(cntrep_opinions),        # get number of successes \n",
    "                            n = n())                             # get total counts\n",
    "props\n",
    "prop.test(x = props$successes, \n",
    "          n = props$n,\n",
    "       conf.level = .95)  # default CL is .95 \n",
    "                          # you could use different conf levels, like .90 or .99\n"
   ]
  }
 ],
 "metadata": {
  "kernelspec": {
   "display_name": "R",
   "language": "R",
   "name": "ir"
  },
  "language_info": {
   "codemirror_mode": "r",
   "file_extension": ".r",
   "mimetype": "text/x-r-source",
   "name": "R",
   "pygments_lexer": "r",
   "version": "4.5.1"
  }
 },
 "nbformat": 4,
 "nbformat_minor": 5
}
