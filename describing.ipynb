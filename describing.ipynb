{
 "cells": [
  {
   "attachments": {},
   "cell_type": "markdown",
   "metadata": {},
   "source": [
    "## Describing Variables Using Univariate Statistics and Graphs\n",
    "\n",
    "In this lab, we are going to cover a number of core functions to calculate simple univariate statistics in R. We can also create simple tables of these univariate descriptive statistics. Before we do that, let's get our required packages, download our data, and do some pre-processing of the data."
   ]
  },
  {
   "cell_type": "code",
   "execution_count": null,
   "metadata": {
    "vscode": {
     "languageId": "r"
    }
   },
   "outputs": [],
   "source": [
    "# Install the required packages if not already installed \n",
    "\n",
    "install.packages(\"pacman\")\n",
    "\n",
    "# let's load your packages in the R session\n",
    "pacman::p_load(tidyverse, modelsummary)"
   ]
  },
  {
   "cell_type": "markdown",
   "metadata": {},
   "source": [
    "Now let's load our dataset. You can pull it directly from my GitHub repository using the url and the `read_csv()` function from **tidyverse**'s **readr** package. The dataset comes from the NJ Department of Education (with some editing by me), and shows the Adjusted 4-Year Cohort Graduation Rate by various populations of students. ([Source](https://www.nj.gov/education/schoolperformance/grad/ACGR.shtml)). These data are from 2022. "
   ]
  },
  {
   "cell_type": "code",
   "execution_count": null,
   "metadata": {
    "vscode": {
     "languageId": "r"
    }
   },
   "outputs": [],
   "source": [
    "# need to give the data frame a name. read_csv will store as a tibble data frame.\n",
    "nj.grad <- read_csv(\"https://raw.githubusercontent.com/bowendc/pol200_labs/main/grad_rates.csv\")  \n",
    "\n",
    "# take a look using head() or View()\n",
    "head(nj.grad, n = 10)"
   ]
  },
  {
   "cell_type": "markdown",
   "metadata": {},
   "source": [
    "## Using core statistical functions\n",
    "\n",
    "Base R comes with a number of built-in functions for calculating statistics. Here are some examples of functions you might want to use. Note that the `na.rm=TRUE` argument allows the function to remove the missing data from the calculation. Otherwise, R will return an `NA` answer when encountering any missing data. You will nearly always want to include this argument, unless you know you should not have missing values."
   ]
  },
  {
   "cell_type": "code",
   "execution_count": null,
   "metadata": {
    "vscode": {
     "languageId": "r"
    }
   },
   "outputs": [],
   "source": [
    "mean(nj.grad$grad.rate.all, na.rm = TRUE)\n",
    "median(nj.grad$grad.rate.all, na.rm = TRUE) #50th percentile\n",
    "range(nj.grad$grad.rate.all, na.rm = TRUE)\n",
    "min(nj.grad$grad.rate.all, na.rm = TRUE)\n",
    "max(nj.grad$grad.rate.all, na.rm = TRUE)\n",
    "sd(nj.grad$grad.rate.all, na.rm = TRUE)\n",
    "quantile(nj.grad$grad.rate.all, probs = .25, na.rm = TRUE) # 25th percentile\n",
    "quantile(nj.grad$grad.rate.all, probs = .75, na.rm = TRUE) # 75th percentile\n",
    "\n",
    "# you can also do calculations with these functions: \n",
    "mean(nj.grad$grad.rate.all, na.rm = TRUE) - sd(nj.grad$grad.rate.all, na.rm = TRUE)\n",
    "\n",
    "# or store them as objects: \n",
    "rate.mean <- mean(nj.grad$grad.rate.all, na.rm = TRUE)\n",
    "rate.sd <- sd(nj.grad$grad.rate.all, na.rm = TRUE)\n",
    "\n",
    "# let's call up our stored statistics, plug them into an equation,and round to nearest integer\n",
    "round(rate.mean + rate.sd, 0)\n"
   ]
  },
  {
   "cell_type": "markdown",
   "metadata": {},
   "source": [
    "These functions can also be accessed using the `summarize()` function from **tidyverse**. `summarize()` has a bunch of nice properties. It allows us to aggregate by another variable using the function `group_by`. It also will provide the result in a tibble format."
   ]
  },
  {
   "cell_type": "code",
   "execution_count": null,
   "metadata": {
    "vscode": {
     "languageId": "r"
    }
   },
   "outputs": [],
   "source": [
    "nj.grad |> summarize(Mean = mean(grad.rate.all, na.rm = TRUE),\n",
    "                     Median = median(grad.rate.all, na.rm = TRUE),\n",
    "                     `Standard Deviation` = sd(grad.rate.all, na.rm = TRUE)) # the `` is needed b/c of space in name\n",
    "\n",
    "# let's remake table, this time grouping by NJ county: \n",
    "nj.grad |> \n",
    "    group_by(County.Name) |>\n",
    "    summarize(Mean = mean(grad.rate.all, na.rm = TRUE),\n",
    "              Median = median(grad.rate.all, na.rm = TRUE),\n",
    "              `Standard Deviation` = sd(grad.rate.all, na.rm = TRUE))"
   ]
  },
  {
   "attachments": {},
   "cell_type": "markdown",
   "metadata": {},
   "source": [
    "## Creating a table of descriptive statistics \n",
    "\n",
    "To create a table of descriptive statistics, we will use the `datasummary_skim()` and `datasummary()` functions of the **modelsummary** package. These provide clean, well-formatted table output that will give us a nice set of options for exporting, viewing, or saving the table. We could also combine with the *select()* function from  **dplyr** in the **tidyverse** to select just some columns of data if we want. Check out the `output` argument from the help file to see some other options. I'm using `output = \"desc_stats.csv\"` so that our table will be written directly to a `.csv` file (named \"desc_stats.csv\") in the second example below, ready for copying-and-pasting into a paper if needed."
   ]
  },
  {
   "cell_type": "code",
   "execution_count": null,
   "metadata": {
    "vscode": {
     "languageId": "r"
    }
   },
   "outputs": [],
   "source": [
    "# datasummary_skim() has default settings for each type of variable in your data frame\n",
    "# you should see an image of a table pop up in your plot window or web browser.\n",
    "# notice how datasummary_skim() handles numeric and categorical variables differently. \n",
    "nj.grad |> \n",
    "    datasummary_skim() \n",
    "\n",
    "# left-hand side of ~ receives the variables names listed with the + between\n",
    "# right-hand side of ~ receives the statistics you'd like to present in your table\n",
    "# what I have below is standard: \n",
    "\n",
    "# here we are using the datasummary(), not the datasummary_skim() function\n",
    "datasummary(\n",
    "            grad.rate.all + grad.rate.poor + grad.rate.Eng.learners + count.all  ~ \n",
    "            N + Mean + Median + SD + Min + Max,\n",
    "        data = nj.grad,\n",
    "        align = \"lcccccc\",                          # alignment of columns. l = left, c = center, r = right\n",
    "        title = \"Table of Descriptive Statistics\", \n",
    "        fmt = 1,                                    # the number of decimal places for rounding\n",
    "        output = \"desc_stats.csv\"                   # the output format. Lots of options, check help file\n",
    "    )"
   ]
  }
 ],
 "metadata": {
  "kernelspec": {
   "display_name": "R",
   "language": "R",
   "name": "ir"
  },
  "language_info": {
   "codemirror_mode": "r",
   "file_extension": ".r",
   "mimetype": "text/x-r-source",
   "name": "R",
   "pygments_lexer": "r",
   "version": "4.5.1"
  },
  "orig_nbformat": 4
 },
 "nbformat": 4,
 "nbformat_minor": 2
}
