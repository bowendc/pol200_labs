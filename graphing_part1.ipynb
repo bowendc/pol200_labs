{
 "cells": [
  {
   "cell_type": "markdown",
   "id": "41c56150",
   "metadata": {
    "vscode": {
     "languageId": "r"
    }
   },
   "source": [
    "# Graphing with ggplot2, Part I\n",
    "\n",
    "**ggplot2** is an outstanding, albeit complex, graphic syntax for R, bundled as part of the **tidyverse**. Let's explore some of the basic plot types and `ggplot()` syntax. To make our lives easier, we'll be using the `fake` dataframe we used in some of our previous labs. First, let's use the `pacman` package to load the **tidyverse**. We'll also install and load **RColorBrewer**, which provides access to some nice color palettes we can use for graphing."
   ]
  },
  {
   "cell_type": "code",
   "execution_count": null,
   "id": "536cf0bd",
   "metadata": {
    "vscode": {
     "languageId": "r"
    }
   },
   "outputs": [],
   "source": [
    "# install only if needed:\n",
    "install.packages('pacman')\n",
    "\n",
    "pacman::p_load(tidyverse, RColorBrewer)"
   ]
  },
  {
   "cell_type": "code",
   "execution_count": null,
   "id": "2050babf",
   "metadata": {
    "vscode": {
     "languageId": "r"
    }
   },
   "outputs": [],
   "source": [
    "# ingest the data from github and store as \"fake\"\n",
    "fake <- read.csv(\"https://raw.githubusercontent.com/bowendc/pol200_labs/refs/heads/main/fake.csv\")\n",
    "\n",
    "# for a little more interesting graphs, let's change our y variable slightly.\n",
    "# Don't do this if you are using real data!!!!\n",
    "fake$y <- fake$y + 15*fake$w"
   ]
  },
  {
   "cell_type": "markdown",
   "id": "87a8eb41",
   "metadata": {},
   "source": [
    "## Histograms and density plots\n",
    "\n",
    "Histograms are graphs that present the distribution of a variable measured at the continuous or interval level by grouping the values into \"bins\". \n",
    "\n",
    "The `ggplot()` syntax works like this. First, we create the plot using `ggplot` and specify the data we'll be using. Then, we can add graph layers to control the type of plot and the look of the graph. \n",
    "\n",
    "### Histograms\n",
    "\n",
    "`geom_histogram` will draw a histogram. In the code below, we draw different histograms where we first use the default number of bins, then we limit the number of bins to 7, then create bins with a fixed width, and final we change the y axis to measure percentage of total cases rather than counts. "
   ]
  },
  {
   "cell_type": "code",
   "execution_count": null,
   "id": "6e0e26e2",
   "metadata": {
    "vscode": {
     "languageId": "r"
    }
   },
   "outputs": [],
   "source": [
    "p1 <- ggplot(data = fake,               # create plot, store as p1\n",
    "             mapping = aes(x = x))      # tell R which variable(s) we'll graph\n",
    "\n",
    "p1 + geom_histogram()                   # create histogram\n",
    "p1 + geom_histogram(bins = 7)           # limit to only 7 bins\n",
    "p1 + geom_histogram(binwidth = 5)       # fix bin width to 5\n",
    "p1 + geom_histogram(aes( y = 100*after_stat(count) /sum(after_stat(count))), # make y scale a percentage\n",
    "                    binwidth = 10)      # change bin width to 10\n"
   ]
  },
  {
   "cell_type": "markdown",
   "id": "4ba57028",
   "metadata": {},
   "source": [
    "Let's say we're pretty happy with what we've created. Let's store this and start editing the look of the graph. Below, we change the color of the plot using `fill`, the transparency using `alpha` and the outline color using `color`."
   ]
  },
  {
   "cell_type": "code",
   "execution_count": null,
   "id": "b1c2f26b",
   "metadata": {
    "vscode": {
     "languageId": "r"
    }
   },
   "outputs": [],
   "source": [
    "p2 <- p1 + geom_histogram(aes( y = 100*after_stat(count) /sum(after_stat(count))),\n",
    "                    binwidth = 10,\n",
    "                    fill = \"#193d19\",  # set fill color\n",
    "                    alpha = .4,          # set transparency amount. Closer to 0 is more transparent.\n",
    "                    color = \"black\")   # set outline color\n",
    "p2"
   ]
  },
  {
   "cell_type": "markdown",
   "id": "5d755888",
   "metadata": {},
   "source": [
    "We can add another layer to alter the background of the plot and other styling using the `theme_` layer."
   ]
  },
  {
   "cell_type": "code",
   "execution_count": null,
   "id": "3feb8bf5",
   "metadata": {
    "vscode": {
     "languageId": "r"
    }
   },
   "outputs": [],
   "source": [
    "# all of these themes are built-in to ggplot2\n",
    "p2 + theme_bw()\n",
    "p2 + theme_light()\n",
    "p2 + theme_minimal()\n",
    "p2 + theme_gray()\n",
    "p2 + theme_linedraw()\n"
   ]
  },
  {
   "cell_type": "markdown",
   "id": "30b6ea30",
   "metadata": {},
   "source": [
    "Plot and axis titles can be created using the `labs` layer."
   ]
  },
  {
   "cell_type": "code",
   "execution_count": null,
   "id": "04c87c6d",
   "metadata": {
    "vscode": {
     "languageId": "r"
    }
   },
   "outputs": [],
   "source": [
    "p2 + labs(title = \"Distribution of Variable X\",\n",
    "          y = \"Percent of Cases\",\n",
    "          x = \"A Variable X (fake data)\") +\n",
    "     theme_bw()"
   ]
  },
  {
   "cell_type": "markdown",
   "id": "26728ae5",
   "metadata": {},
   "source": [
    "### Bar Charts\n",
    "\n",
    "Bar charts are versions of histograms in which each value of the variable gets its own bar. So bar charts are suitable for discrete (ordinal or nominal) data. Let's use what we've learned from `geom_histogram` and use make a bar chart instead using `geom_bar`."
   ]
  },
  {
   "cell_type": "code",
   "execution_count": null,
   "id": "9540ed37",
   "metadata": {
    "vscode": {
     "languageId": "r"
    }
   },
   "outputs": [],
   "source": [
    "# here, we use geom_bar which has some nice default settings\n",
    "# we also tell R to interpret z as ordered data rather than \n",
    "#   a number, which makes the x axis a little nicer. \n",
    "\n",
    "ggplot(data = fake,\n",
    "        mapping = aes(x = ordered(z))) +\n",
    "        geom_bar(aes( y = 100*after_stat(count) /sum(after_stat(count))),\n",
    "                    fill = \"navy\") +\n",
    "     labs(title = \"Distribution of Ordinal Variable Z\",\n",
    "          y = \"Percent of Cases\",\n",
    "          x = \"A Discrete Independent Variable Z (fake data)\") +\n",
    "     theme_minimal()"
   ]
  },
  {
   "cell_type": "markdown",
   "id": "e6b597f1",
   "metadata": {},
   "source": [
    "## Density plots\n",
    "\n",
    "Density plots display the distribution of a variable as smoothed distribution without bins or bars. The default `geom_density` will create just the outline of the density plot; I typically use the `fill` argument to create a shaded distribution."
   ]
  },
  {
   "cell_type": "code",
   "execution_count": null,
   "id": "2ec4058f",
   "metadata": {
    "vscode": {
     "languageId": "r"
    }
   },
   "outputs": [],
   "source": [
    "ggplot(data = fake,\n",
    "        mapping = aes(x = y)) +\n",
    "        geom_density(aes( y = 100*after_stat(count) /sum(after_stat(count))),\n",
    "                    fill = \"#901c16\",\n",
    "                    alpha = .4,\n",
    "                    color = \"black\") +\n",
    "     labs(title = \"Distribution of Variable Y\",\n",
    "          y = \"Percent of Cases\",\n",
    "          x = \"A Dependent Variable Y (fake data)\") +\n",
    "     theme_minimal()\n"
   ]
  },
  {
   "cell_type": "markdown",
   "id": "5f196bd0",
   "metadata": {},
   "source": [
    "### Multivariate plots\n",
    "\n",
    "We can present these distributions across the values of another variable. There are multiple ways of doing this. First, the distribution could be split into categories of another variable and then we can change some attribute (like color, shape, or border) to denote the values of the second variable. We could also split the graph entirely based on the categories of the other variable. Let's go over both of these strategies.\n",
    "\n",
    "Here, let's split the plot into two distributions occupying the same plot space. In order to visually distinguish the distributions, we can use different `fill` colors. The easiest way to do this is to change the graph aesthetics to allow a `fill` category. We use the `factor` function to inform R that variable `w` is a nominal, not numeric, variable. Then, we use `scale_fill_brewer()` to define the color scale we want to use. Here, we use the `Dark2` scale from the `RColorBrewer` package. There are many cool color palettes. You can read up about how to use these [here](https://ggplot2-book.org/scales-colour#sec-colour-discrete)."
   ]
  },
  {
   "cell_type": "code",
   "execution_count": null,
   "id": "081aeee1",
   "metadata": {
    "vscode": {
     "languageId": "r"
    }
   },
   "outputs": [],
   "source": [
    "ggplot(data = fake, \n",
    "       mapping = aes( x = y, fill = factor(w))) + # fill will group observations by the variable w\n",
    "        geom_density(aes(y = 100*after_stat(count) /sum(after_stat(count))),\n",
    "                    alpha = .4,\n",
    "                    color = \"black\") +\n",
    "     labs(title = \"Distribution of Variable Y by W\",\n",
    "          y = \"Percent of Cases\",\n",
    "          x = \"A Dependent Variable Y (fake data)\",\n",
    "          fill = \"W\") +       # change the label of the legend\n",
    "     scale_fill_brewer(palette = \"Dark2\") +\n",
    "     theme_minimal() \n"
   ]
  },
  {
   "cell_type": "markdown",
   "id": "67c33701",
   "metadata": {},
   "source": [
    "Now let's try faceting the graph: splitting our single plot into two, separate plots. You don't need to use the `fill` argument when faceting, but it does allow you to employ different colors by graph. "
   ]
  },
  {
   "cell_type": "code",
   "execution_count": null,
   "id": "125be18c",
   "metadata": {
    "vscode": {
     "languageId": "r"
    }
   },
   "outputs": [],
   "source": [
    "ggplot(data = fake, \n",
    "       mapping = aes( x = y, fill = factor(w))) +\n",
    "        geom_density(aes(y = 100*after_stat(count) /sum(after_stat(count))),\n",
    "                    alpha = .4,\n",
    "                    color = \"black\") +\n",
    "     labs(title = \"Distribution of Variable Y by W\",\n",
    "          y = \"Percent of Cases\",\n",
    "          x = \"A Dependent Variable Y (fake data)\",\n",
    "          fill = \"W\") +\n",
    "     scale_fill_brewer(palette = \"Accent\") +\n",
    "     theme_minimal() + \n",
    "     facet_grid(~ w)          # facet plot by variable w\n",
    "                              # if you placed the variable name before\n",
    "                              # the ~, you would have two rows instead of \n",
    "                              # two columns. Could specify a diff variable for \n",
    "                              # both rows and columns if you wanted."
   ]
  }
 ],
 "metadata": {
  "kernelspec": {
   "display_name": "R",
   "language": "R",
   "name": "ir"
  },
  "language_info": {
   "codemirror_mode": "r",
   "file_extension": ".r",
   "mimetype": "text/x-r-source",
   "name": "R",
   "pygments_lexer": "r",
   "version": "4.5.1"
  }
 },
 "nbformat": 4,
 "nbformat_minor": 5
}
