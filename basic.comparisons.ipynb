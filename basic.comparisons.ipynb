{
 "cells": [
  {
   "cell_type": "markdown",
   "id": "d0f5e1f1",
   "metadata": {},
   "source": [
    "# Basic comparison tests \n",
    "\n",
    "In this lab, we will cover how to compare your independent and dependent variables to evaluate whether your variables move together as expected in your hypothesis. For each of the tests, we will present the distribution of cases across values of your dependent variable as we move across values of the independent variable. We will utilize three main tests: cross-tabulations, mean comparison tests, and scatterplots. Of course, many more ways to compare two variables together exist, but these three are core starting points. We will also learn how to conduct these comparisons while holding constant a third variable. "
   ]
  },
  {
   "cell_type": "code",
   "execution_count": null,
   "id": "e3aa42a1",
   "metadata": {
    "vscode": {
     "languageId": "r"
    }
   },
   "outputs": [],
   "source": [
    "# load necessary packages - install if needed\n",
    "\n",
    "install.packages('pacman')\n",
    "\n",
    "pacman::p_load(tidyverse, modelsummary)"
   ]
  },
  {
   "cell_type": "markdown",
   "id": "07337bd2",
   "metadata": {},
   "source": [
    "For this lab, I've created a simple data frame, stored as a csv file on Github, with some survey data on demographic characteristics of the survey respondents and whether (and degree) of interaction they have had with their state legislators."
   ]
  },
  {
   "cell_type": "code",
   "execution_count": null,
   "id": "5c8b99e0",
   "metadata": {
    "vscode": {
     "languageId": "r"
    }
   },
   "outputs": [],
   "source": [
    "# ingest the data from github and store in R session as \"survey.df\"\n",
    "survey.df <- read.csv(\"https://raw.githubusercontent.com/bowendc/pol200_labs/refs/heads/main/simple_survey.csv\")\n",
    "\n",
    "head(survey.df, n = 15)"
   ]
  },
  {
   "cell_type": "markdown",
   "id": "b09e3f5f",
   "metadata": {},
   "source": [
    "## Cross-tabulations\n",
    "\n",
    "Cross-tabs are joint frequency tables. They present the frequency distribution of your dependent variable across columns defined by values of your independent variable. That way you can see if the distribution of the dependent variable changes as you move across the columns. \n",
    "\n",
    "Creating crosstabs in base R is a multi-step process. We need to use two functions: the `table()` function and the `prop.table()` function:"
   ]
  },
  {
   "cell_type": "code",
   "execution_count": null,
   "id": "9dbe09e0",
   "metadata": {
    "vscode": {
     "languageId": "r"
    }
   },
   "outputs": [],
   "source": [
    "\n",
    "# create the table with joint frequencies (counts)\n",
    "# syntax: table(df$y, df$x)\n",
    "# here we store the crosstab in the object matrix ct for future use\n",
    "ct <- table(survey.df$cntrep_help, survey.df$income)\n",
    "ct\n",
    "\n",
    "# now we have the counts; we use prop.table() to calculate proportions\n",
    "# the second argument will calculate 1 for row %s and 2 for column %s.\n",
    "prop.table(ct, 2) \n",
    "\n",
    "# we can clean the code by rounding. \n",
    "round(prop.table(ct, 2), 2)\n",
    "\n",
    "\n",
    "# we could do all these in one line of code by wrapping\n",
    "# the functions inside one another:\n",
    "\n",
    "# this time, let's use the another reason for contact: expressing opinions\n",
    "round(prop.table(table(survey.df$cntrep_opinions, survey.df$income), 2), 2)\n"
   ]
  },
  {
   "cell_type": "markdown",
   "id": "31481add",
   "metadata": {},
   "source": [
    "This isn't bad, but it sure would be nice to have value labels instead of the value numbers for easier interpretation. There are many ways of doing this, none of which makes me particularly satisfied. But one thing we could do is store these variables as `factor` data, which allows for the inclusion of both levels (order of values) and labels. Here, I write them to new variables and use the new variables to create the crosstab. "
   ]
  },
  {
   "cell_type": "code",
   "execution_count": null,
   "id": "3121bb2f",
   "metadata": {
    "vscode": {
     "languageId": "r"
    }
   },
   "outputs": [],
   "source": [
    "survey.df$cntrep_opinions.lab <- factor(survey.df$cntrep_opinions,\n",
    "                                        levels = c(0, 1),           #list order of values\n",
    "                                        labels= c(\"No\", \"Yes\"))     # text labels should match order in levels\n",
    "\n",
    "survey.df$income.lab <- factor(survey.df$income,\n",
    "                                levels = c(1, 2, 3, 4),\n",
    "                                labels= c( \"<50k\", \"50k - 100k\", \"100k - 150k\", \">150k\"))\n",
    "\n",
    "\n",
    "table(survey.df$cntrep_opinions.lab, survey.df$income.lab)"
   ]
  },
  {
   "cell_type": "markdown",
   "id": "554ed042",
   "metadata": {},
   "source": [
    "Here is another way of creating the crosstab by using the `datasummary_crosstab` function from the **modelsummary** package."
   ]
  },
  {
   "cell_type": "code",
   "execution_count": null,
   "id": "1e43b8f5",
   "metadata": {
    "vscode": {
     "languageId": "r"
    }
   },
   "outputs": [],
   "source": [
    "# using datasummary_crosstabs\n",
    "# the statistic argument below allows us to use column percentages\n",
    "\n",
    "datasummary_crosstab(cntrep_opinions.lab ~ income.lab,\n",
    "                         statistic = 1 ~ 1 + N + Percent(\"col\"), \n",
    "                         data = survey.df |> filter(!is.na(cntrep_opinions.lab) & \n",
    "                                                    !is.na(income.lab))) "
   ]
  },
  {
   "cell_type": "markdown",
   "id": "66956ca0",
   "metadata": {},
   "source": [
    "Pretty good! But we can do even better by using some of the `tidy` functions we already know about. This time, let's use the `output` argument to format the table as a dataframe, and then we can our other functions for editing."
   ]
  },
  {
   "cell_type": "code",
   "execution_count": null,
   "id": "542bc553",
   "metadata": {
    "vscode": {
     "languageId": "r"
    }
   },
   "outputs": [],
   "source": [
    "# the rename function will provide a descriptive name for the first column\n",
    "# the select() function below will drop the column with the empty column header\n",
    "ct3 <- datasummary_crosstab(cntrep_opinions.lab ~ income.lab,\n",
    "                         statistic = 1 ~ 1 + N + Percent(\"col\"),\n",
    "                         data = survey.df |> filter(!is.na(cntrep_opinions.lab) & \n",
    "                                                    !is.na(income.lab)),\n",
    "                         output = 'dataframe') |>\n",
    "                         rename(`Contacted Representative` = cntrep_opinions.lab) |>\n",
    "                         select(!` `)\n",
    "\n",
    "ct3\n",
    "    "
   ]
  },
  {
   "cell_type": "markdown",
   "id": "d97abbc1",
   "metadata": {},
   "source": [
    "### Controlling for a third factor variable\n",
    "\n",
    "We can easily replicate this table while holding constant a third variable. To make the table easier to read, let's again use the `factor` function to code a new variable with text labels. Then we can specify our control variable inside the `datasummary_crosstab()` call.\n"
   ]
  },
  {
   "cell_type": "code",
   "execution_count": null,
   "id": "54da51a2",
   "metadata": {
    "vscode": {
     "languageId": "r"
    }
   },
   "outputs": [],
   "source": [
    "survey.df$women.lab <- factor(survey.df$women,\n",
    "                                        levels = c(0, 1),\n",
    "                                        labels= c(\"Men\", \"Women\"))\n",
    "\n",
    "\n",
    "# Note the end of the first line. The * will break the columns of the table \n",
    "#   into combinations of our two variables.\n",
    "#   The variable you list first will be the first division of the data, \n",
    "#   followed by the second variable. \n",
    "ct4 <- datasummary_crosstab(cntrep_opinions.lab ~ women.lab * income.lab,\n",
    "                         statistic = 1 ~ 1 + N + Percent(\"col\"),\n",
    "                         data = survey.df,\n",
    "                         output = 'default') \n",
    "\n",
    "ct4"
   ]
  },
  {
   "cell_type": "markdown",
   "id": "6d675d35",
   "metadata": {},
   "source": [
    "## Mean Comparisons\n",
    "\n",
    "In a mean comparison, calculate the mean of the an interval or dichotomous dependent variable by categories of the independent variable. The values of the IV make up the *rows*, while the means of the DV go in the *column*. While we could use `datasummary_crosstab` to do this too, I think it is easier to use `summarize` for this."
   ]
  },
  {
   "cell_type": "code",
   "execution_count": null,
   "id": "a140064b",
   "metadata": {
    "vscode": {
     "languageId": "r"
    }
   },
   "outputs": [],
   "source": [
    "# group your data by the independent variable\n",
    "\n",
    "survey.df |>\n",
    "    group_by(income.lab) |>\n",
    "    summarize(`Mean of Contacted Rep` = mean(cntrep_opinions, na.rm = TRUE))\n"
   ]
  },
  {
   "cell_type": "markdown",
   "id": "7e1109e0",
   "metadata": {
    "vscode": {
     "languageId": "r"
    }
   },
   "source": [
    "### Controlling for a third variable\n",
    "\n",
    "We can hold constant a third variable by incorporating that variable into our grouping strategy, and then pivoting with `pivot_wider`:"
   ]
  },
  {
   "cell_type": "code",
   "execution_count": null,
   "id": "ac3b6c09",
   "metadata": {
    "vscode": {
     "languageId": "r"
    }
   },
   "outputs": [],
   "source": [
    "survey.df |>\n",
    "    group_by(women.lab, income.lab) |>\n",
    "    summarize(`Mean of Contacted Rep` = mean(cntrep_opinions, na.rm = TRUE)) |>\n",
    "    pivot_wider(names_from = women.lab,\n",
    "                values_from = `Mean of Contacted Rep`)"
   ]
  },
  {
   "cell_type": "markdown",
   "id": "830c7fb5",
   "metadata": {},
   "source": [
    "That's pretty good, but we can clean it up! Let's filter out missing observations and let's round the means."
   ]
  },
  {
   "cell_type": "code",
   "execution_count": null,
   "id": "44892d11",
   "metadata": {
    "vscode": {
     "languageId": "r"
    }
   },
   "outputs": [],
   "source": [
    "survey.df |>\n",
    "    filter(!is.na(income.lab)) |>          # is.na() will identify observations coded NA\n",
    "    group_by(women.lab, income.lab) |>\n",
    "    summarize(`Mean of Contacted Rep` = round(mean(cntrep_opinions, na.rm = TRUE), 2)) |>\n",
    "    pivot_wider(names_from = women.lab,\n",
    "                values_from = `Mean of Contacted Rep`) |>\n",
    "    rename(Income = income.lab)"
   ]
  },
  {
   "cell_type": "markdown",
   "id": "47f13136",
   "metadata": {
    "vscode": {
     "languageId": "r"
    }
   },
   "source": [
    "## Scatterplots\n",
    "\n",
    "Scatterplots are graphs showing the exact value of each observation on both the independent and dependent variable. Scatterplots are useful for interval data that would otherwise be unsuitable for presenting in a table. We're going to spend more time later learning about graphing in R, so in the example below, we'll just cover the very basics. We'll be using the package `ggplot2`, part of the **tidyverse**. Here we will use a count of all types of interactions the respondents had with legislators (0 to 10 scale) as the dependent variable, and the respondent's age as the dependent variable. "
   ]
  },
  {
   "cell_type": "markdown",
   "id": "f5c46194",
   "metadata": {},
   "source": [
    "First, create the plot space with `ggplot()`."
   ]
  },
  {
   "cell_type": "code",
   "execution_count": null,
   "id": "c575198b",
   "metadata": {
    "vscode": {
     "languageId": "r"
    }
   },
   "outputs": [],
   "source": [
    "plot <- ggplot(data = survey.df,                # define the data used\n",
    "               mapping = aes(x = age,           # set variables to use\n",
    "                             y = interactions)) \n",
    "plot"
   ]
  },
  {
   "cell_type": "code",
   "execution_count": null,
   "id": "d042be2e",
   "metadata": {
    "vscode": {
     "languageId": "r"
    }
   },
   "outputs": [],
   "source": [
    "plot + geom_point()  # create scatterplot representation of data"
   ]
  },
  {
   "cell_type": "code",
   "execution_count": null,
   "id": "95a1d617",
   "metadata": {
    "vscode": {
     "languageId": "r"
    }
   },
   "outputs": [],
   "source": [
    "plot + geom_jitter() # create scatterplot with a little random noise\n",
    "                     # useful when we have lots of observations at \n",
    "                     # same place on graph"
   ]
  },
  {
   "cell_type": "code",
   "execution_count": null,
   "id": "81097cc9",
   "metadata": {
    "vscode": {
     "languageId": "r"
    }
   },
   "outputs": [],
   "source": [
    "plot + geom_jitter(alpha = .2) # make points semi-transparent\n",
    "                               # 0 is invisible, 1 is fully opaque"
   ]
  },
  {
   "cell_type": "markdown",
   "id": "4d877509",
   "metadata": {},
   "source": [
    "### Controlling for a third variable on a scatterplot\n",
    "\n",
    "When controlling for a third variable, you need to remake the scatterplot by categories of the confounding variable. We can do that several ways, but here, let's use the `facet_grid()` layer in `ggplot()`. "
   ]
  },
  {
   "cell_type": "code",
   "execution_count": null,
   "id": "853970c0",
   "metadata": {
    "vscode": {
     "languageId": "r"
    }
   },
   "outputs": [],
   "source": [
    "plot + geom_jitter(alpha = .2) + \n",
    "       facet_grid(~income.lab)    # control for income"
   ]
  }
 ],
 "metadata": {
  "kernelspec": {
   "display_name": "R",
   "language": "R",
   "name": "ir"
  },
  "language_info": {
   "codemirror_mode": "r",
   "file_extension": ".r",
   "mimetype": "text/x-r-source",
   "name": "R",
   "pygments_lexer": "r",
   "version": "4.5.1"
  }
 },
 "nbformat": 4,
 "nbformat_minor": 5
}
