{
 "cells": [
  {
   "cell_type": "markdown",
   "id": "500db727",
   "metadata": {},
   "source": [
    "# Merging data frames\n",
    "\n",
    "Merging data is a very common data wrangling task. We might find one variable in one dataset and another variable in some other dataset. The more observations we have, the harder it is to compile data from disparate sources by hand. The **tidyverse**, however, makes it fairly simple to pull columns of data together based on some identifying variable. \n",
    "\n",
    "Again, merging is a very common task, especially when we work with aggregate data or data on political units (counties, states, countries, etc). It can get tricky! You need to look at your data, understand which variables \"define\" your observations (e.g. uniquely identify the unit of analysis), and then make sure the variables are compatible. Remember to frequently check your data frames to make sure the merge is happening the way you expect it to. Let's get started!"
   ]
  },
  {
   "cell_type": "code",
   "execution_count": null,
   "id": "b6f1c48b",
   "metadata": {
    "vscode": {
     "languageId": "r"
    }
   },
   "outputs": [],
   "source": [
    "# install only if needed\n",
    "# install.packages('pacman')\n",
    "pacman::p_load(tidyverse)"
   ]
  },
  {
   "cell_type": "markdown",
   "id": "7e315a30",
   "metadata": {},
   "source": [
    "For this lab, we're going to reuse a dataset on NJ school districts' graduation rates, along with some new data. We want to combine these data with two new data frames: one from the NJ Department of Education about teacher retention, and a second from the U.S. Census Bureau's American Community Survey with information about income and poverty rates in NJ counties.  \n",
    "\n",
    "To do this, we'll take advantage of the `paste()` function from base R which allows us to combine two strings of text characters together. First, we store the beginning of the GitHub url as `part1` and then we combine that with the file name to make working urls that point to our various data frames."
   ]
  },
  {
   "cell_type": "code",
   "execution_count": null,
   "id": "67d66c04",
   "metadata": {
    "vscode": {
     "languageId": "r"
    }
   },
   "outputs": [],
   "source": [
    "part1 <- \"https://raw.githubusercontent.com/bowendc/pol200_labs/main/\"\n",
    "\n",
    "nj.grad <- read_csv(\n",
    "                paste(part1, \"grad_rates.csv\", sep = \"\")\n",
    "                )\n",
    "nj.retention <- read_csv(\n",
    "                paste(part1, \"nj_retention.csv\", sep = \"\")\n",
    "                )\n",
    "nj.poverty <- read_csv(\n",
    "                paste(part1, \"nj_county_poverty.csv\", sep = \"\")\n",
    "                )"
   ]
  },
  {
   "cell_type": "markdown",
   "id": "b8996625",
   "metadata": {},
   "source": [
    "Let's take a look at each of these data frames."
   ]
  },
  {
   "cell_type": "code",
   "execution_count": null,
   "id": "0a87eae4",
   "metadata": {
    "vscode": {
     "languageId": "r"
    }
   },
   "outputs": [],
   "source": [
    "head(nj.grad)\n",
    "head(nj.retention)\n",
    "head(nj.poverty)"
   ]
  },
  {
   "cell_type": "markdown",
   "id": "b651525c",
   "metadata": {},
   "source": [
    "Looks like `read_csv` is pulling in row names a variable in two of our data frames (probably due to how they were originally created and stored). Let's re-import these data using the `col_select` argument to avoid the columns starting with `...1`."
   ]
  },
  {
   "cell_type": "code",
   "execution_count": null,
   "id": "d3070463",
   "metadata": {
    "vscode": {
     "languageId": "r"
    }
   },
   "outputs": [],
   "source": [
    "nj.grad <- read_csv(\n",
    "                paste(part1, \"grad_rates.csv\", sep = \"\"),\n",
    "                col_select = !`...1`                         # again, ! means \"not\"\n",
    "                )\n",
    "nj.poverty <- read_csv(\n",
    "                paste(part1, \"nj_county_poverty.csv\", sep = \"\"),\n",
    "                col_select = !`...1`\n",
    "                )"
   ]
  },
  {
   "cell_type": "markdown",
   "id": "b1d15c66",
   "metadata": {},
   "source": [
    "We also need to clean the data a little bit. For example, `nj.retention` currently has observations split into rows for Administrators and Teachers. We only want the data for teachers, so we need to filter out the administrator rows or we'll create duplicate observations when we merge. Second, there is an observation for State-wide retention. Let's drop that as well. "
   ]
  },
  {
   "cell_type": "code",
   "execution_count": null,
   "id": "4a8499ed",
   "metadata": {
    "vscode": {
     "languageId": "r"
    }
   },
   "outputs": [],
   "source": [
    "nj.retention <- nj.retention |> filter(`Teachers/Admins` == \"Teachers\" & DistrictCode != \"State\")"
   ]
  },
  {
   "cell_type": "markdown",
   "id": "e87a57ed",
   "metadata": {},
   "source": [
    "I typically use `left_join()` to merge data frames. `left_join()` is from the **dplyr** package, which is included in the **tidyverse**. It will match observations in the first listed data frame with observations listed in the second listed data frame. If an observation is unmatched in the first data frame, it will remain in the dataset. If it is missing in the second, it is dropped. `right_join` does the opposite (keeps unmatched observations from only the second data frame). `full_join` keeps unmatched observations from both data frames. Key to using any of these functions is understanding how the observations are supposed to be matched. \n",
    "\n",
    "You can define that using the `by` argument. If the variable is named the same thing in both data frames, you could simply use: `by = join_by(varname)` (obviously using the actual variable name)."
   ]
  },
  {
   "cell_type": "code",
   "execution_count": null,
   "id": "6816fbca",
   "metadata": {
    "vscode": {
     "languageId": "r"
    }
   },
   "outputs": [],
   "source": [
    "combined <- left_join(nj.grad, nj.retention,\n",
    "                        by = join_by(District.Code == DistrictCode))"
   ]
  },
  {
   "cell_type": "markdown",
   "id": "d6e7aabe",
   "metadata": {},
   "source": [
    "Hmmm. This is a common issue. What's going on is that one version of the numeric ID is being stored as a number, in the other data frame it was stored as a character (text) variable. We can quickly fix using `as.numeric()` to convert our variable to a number, and then we can try our merge again."
   ]
  },
  {
   "cell_type": "code",
   "execution_count": null,
   "id": "9dfc9eb6",
   "metadata": {
    "vscode": {
     "languageId": "r"
    }
   },
   "outputs": [],
   "source": [
    "nj.retention <- nj.retention |> mutate(DistrictCode = as.numeric(DistrictCode))\n",
    " \n",
    "combined <- left_join(nj.grad, nj.retention,\n",
    "                        by = join_by(District.Code == DistrictCode))"
   ]
  },
  {
   "cell_type": "markdown",
   "id": "001a7a6d",
   "metadata": {},
   "source": [
    "Nice! Now all of our district-level data are included in the same data frame. \n",
    "\n",
    "We can use the same functions to merge data from multiple levels. Always treat the lowest level of aggregation as your \"main\" data, then merge in higher-levels of data by observation. Here, we join our district data with county-level data on poverty using the county name variables included in our data frames."
   ]
  },
  {
   "cell_type": "code",
   "execution_count": null,
   "id": "e42f2dd6",
   "metadata": {
    "vscode": {
     "languageId": "r"
    }
   },
   "outputs": [],
   "source": [
    "combined2 <- left_join(combined, nj.poverty, \n",
    "                        by = join_by(County.Name == County))\n",
    "\n",
    "head(combined2)"
   ]
  },
  {
   "cell_type": "markdown",
   "id": "0b2e0b88",
   "metadata": {},
   "source": [
    "Great! It looks like it worked. Notice that every district in the county as the same value for `pct.poverty`. That's because the poverty rate is measured at the county level, and we joined the data frames by county. "
   ]
  }
 ],
 "metadata": {
  "kernelspec": {
   "display_name": "R",
   "language": "R",
   "name": "ir"
  },
  "language_info": {
   "codemirror_mode": "r",
   "file_extension": ".r",
   "mimetype": "text/x-r-source",
   "name": "R",
   "pygments_lexer": "r",
   "version": "4.5.1"
  }
 },
 "nbformat": 4,
 "nbformat_minor": 5
}
