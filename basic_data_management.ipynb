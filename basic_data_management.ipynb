{
 "cells": [
  {
   "cell_type": "markdown",
   "id": "2af30d8b",
   "metadata": {},
   "source": [
    "# Introductory Data Management in R using base R and the `tidyverse`\n",
    "\n",
    "## Taking a look around in R and RStudio\n",
    "\n",
    "Notice the various windows. \n",
    "\n",
    "1. The Console allows you to enter commands and view results\n",
    "2. The Environment window will show you the various objects R is keeping track of (vectors, datasets, lists, etc.)\n",
    "3. The bottom right window will show you files, figures/graphs, help files, and more. \n",
    "4. If you create/open a script, it will appear in the top-right by default. I encourage using an R project and R script for nearly all work. \n",
    "\n",
    "## Installing and loading packages\n",
    "\n",
    "R is open-source, and, has a number of built-in functions.^[This is called base R.] But there are many, many user-generated packages that improve R's functionality. We'll be using these packages all the time, especially a group of packages called [the tidyverse](https://www.tidyverse.org/packages/). \n",
    "\n",
    "You only need to install the package once and then you're good to go (until it needs updating). But you also need to load the package in every R session if you want to use those commands. Alternatively, you can use the package name, followed by two colons, followed by the function to access functions from packages you have already installed on your computer but have not directly loaded in the current session. Let's see how this works using the `pacman` package. Pacman is a useful tool: it easily allows you to install, load, and update packages you want to use in your session, but will only install packages if they aren't already installed."
   ]
  },
  {
   "cell_type": "code",
   "execution_count": 1,
   "id": "1fc9f34c",
   "metadata": {
    "vscode": {
     "languageId": "r"
    }
   },
   "outputs": [
    {
     "name": "stderr",
     "output_type": "stream",
     "text": [
      "Installing package into ‘/home/dan/R/x86_64-redhat-linux-gnu-library/4.5’\n",
      "(as ‘lib’ is unspecified)\n",
      "\n"
     ]
    }
   ],
   "source": [
    "# Install the required packages if not already installed \n",
    "# By the way, the hashtag/pound/octothorpe symbol will comment out a line in your script\n",
    "\n",
    "install.packages('pacman')\n",
    "library(pacman)\n",
    "\n",
    "# the pacman package is a useful way to load and install packages. It \n",
    "# will check to see if you have already installed the package. If so,\n",
    "# it will load it. If not, it will download and install and THEN load the\n",
    "# package. So it simplifies the process for you.\n",
    "\n",
    "# p_load() is the name of the function from the pacman package. \n",
    "\n",
    "# alternatively, if you have pacman installed, you can use the function\n",
    "# without loading the library by including the package name and :: like this\n",
    "\n",
    "\n",
    "# now let's install/update/load the tidyverse package\n",
    "pacman::p_load(tidyverse)\n"
   ]
  },
  {
   "cell_type": "markdown",
   "id": "e104d828",
   "metadata": {},
   "source": [
    "## Some basics\n",
    "\n",
    "R can handle a great diversity of *objects* including lists, variables, names, vectors, data frames, scalars, and plots. Let's create a vector of data using the `concatenate` or `combine` function, which is the workforce for how R handles lists of pretty much any type. We can assign this list of values to an object with the assignment operator `<-`. You can read that as \"gets\". "
   ]
  },
  {
   "cell_type": "code",
   "execution_count": 2,
   "id": "ea0d88d9",
   "metadata": {
    "vscode": {
     "languageId": "r"
    }
   },
   "outputs": [
    {
     "data": {
      "text/html": [
       "<style>\n",
       ".list-inline {list-style: none; margin:0; padding: 0}\n",
       ".list-inline>li {display: inline-block}\n",
       ".list-inline>li:not(:last-child)::after {content: \"\\00b7\"; padding: 0 .5ex}\n",
       "</style>\n",
       "<ol class=list-inline><li>1</li><li>2</li><li>3</li><li>4</li><li>5</li><li>6</li><li>7</li><li>8</li><li>9</li><li>10</li></ol>\n"
      ],
      "text/latex": [
       "\\begin{enumerate*}\n",
       "\\item 1\n",
       "\\item 2\n",
       "\\item 3\n",
       "\\item 4\n",
       "\\item 5\n",
       "\\item 6\n",
       "\\item 7\n",
       "\\item 8\n",
       "\\item 9\n",
       "\\item 10\n",
       "\\end{enumerate*}\n"
      ],
      "text/markdown": [
       "1. 1\n",
       "2. 2\n",
       "3. 3\n",
       "4. 4\n",
       "5. 5\n",
       "6. 6\n",
       "7. 7\n",
       "8. 8\n",
       "9. 9\n",
       "10. 10\n",
       "\n",
       "\n"
      ],
      "text/plain": [
       " [1]  1  2  3  4  5  6  7  8  9 10"
      ]
     },
     "metadata": {},
     "output_type": "display_data"
    }
   ],
   "source": [
    "# the function below reads: \"x gets the vector of values 1 though 10\"\n",
    "x <- c(1,2,3,4,5,6,7,8,9,10)\n",
    "\n",
    "# we can display our vector by typing the name of object or by using the print() function\n",
    "x"
   ]
  },
  {
   "cell_type": "markdown",
   "id": "c2014ad8",
   "metadata": {},
   "source": [
    "We can also create text data (called *character* data or *string* data) in the same way:"
   ]
  },
  {
   "cell_type": "code",
   "execution_count": 3,
   "id": "8d463716",
   "metadata": {
    "vscode": {
     "languageId": "r"
    }
   },
   "outputs": [
    {
     "data": {
      "text/html": [
       "<style>\n",
       ".list-inline {list-style: none; margin:0; padding: 0}\n",
       ".list-inline>li {display: inline-block}\n",
       ".list-inline>li:not(:last-child)::after {content: \"\\00b7\"; padding: 0 .5ex}\n",
       "</style>\n",
       "<ol class=list-inline><li>'a'</li><li>'b'</li><li>'c'</li><li>'d'</li><li>'e'</li><li>'f'</li><li>'g'</li><li>'i'</li><li>'j'</li><li>'k'</li></ol>\n"
      ],
      "text/latex": [
       "\\begin{enumerate*}\n",
       "\\item 'a'\n",
       "\\item 'b'\n",
       "\\item 'c'\n",
       "\\item 'd'\n",
       "\\item 'e'\n",
       "\\item 'f'\n",
       "\\item 'g'\n",
       "\\item 'i'\n",
       "\\item 'j'\n",
       "\\item 'k'\n",
       "\\end{enumerate*}\n"
      ],
      "text/markdown": [
       "1. 'a'\n",
       "2. 'b'\n",
       "3. 'c'\n",
       "4. 'd'\n",
       "5. 'e'\n",
       "6. 'f'\n",
       "7. 'g'\n",
       "8. 'i'\n",
       "9. 'j'\n",
       "10. 'k'\n",
       "\n",
       "\n"
      ],
      "text/plain": [
       " [1] \"a\" \"b\" \"c\" \"d\" \"e\" \"f\" \"g\" \"i\" \"j\" \"k\""
      ]
     },
     "metadata": {},
     "output_type": "display_data"
    }
   ],
   "source": [
    "# notice the use of quotation marks around our text data\n",
    "z <- c(\"a\", \"b\", \"c\", \"d\", \"e\", \"f\", \"g\", \"i\", \"j\", \"k\")\n",
    "z"
   ]
  },
  {
   "cell_type": "markdown",
   "id": "c7358758",
   "metadata": {},
   "source": [
    "R should recognize the format of these data. We can use the `class` function to see how R has stored our inputs."
   ]
  },
  {
   "cell_type": "code",
   "execution_count": 4,
   "id": "1cb09add",
   "metadata": {
    "vscode": {
     "languageId": "r"
    }
   },
   "outputs": [
    {
     "data": {
      "text/html": [
       "'numeric'"
      ],
      "text/latex": [
       "'numeric'"
      ],
      "text/markdown": [
       "'numeric'"
      ],
      "text/plain": [
       "[1] \"numeric\""
      ]
     },
     "metadata": {},
     "output_type": "display_data"
    },
    {
     "data": {
      "text/html": [
       "'character'"
      ],
      "text/latex": [
       "'character'"
      ],
      "text/markdown": [
       "'character'"
      ],
      "text/plain": [
       "[1] \"character\""
      ]
     },
     "metadata": {},
     "output_type": "display_data"
    }
   ],
   "source": [
    "class(x)\n",
    "class(z)"
   ]
  },
  {
   "cell_type": "markdown",
   "id": "c5bec3ea",
   "metadata": {},
   "source": [
    "Good - R appropriately sees `x` as a numeric **vector** (a column of data) and `z` as a character vector.\n",
    "\n",
    "We can also change these formats. Sometimes changing them will lead to data errors (like by forcing text data into a numeric vector). Numeric data can always be stored as characters, although then R will not be able to use the vector for numerical calculations. "
   ]
  },
  {
   "cell_type": "code",
   "execution_count": 5,
   "id": "bb504d72",
   "metadata": {
    "vscode": {
     "languageId": "r"
    }
   },
   "outputs": [
    {
     "data": {
      "text/html": [
       "'character'"
      ],
      "text/latex": [
       "'character'"
      ],
      "text/markdown": [
       "'character'"
      ],
      "text/plain": [
       "[1] \"character\""
      ]
     },
     "metadata": {},
     "output_type": "display_data"
    },
    {
     "data": {
      "text/html": [
       "'numeric'"
      ],
      "text/latex": [
       "'numeric'"
      ],
      "text/markdown": [
       "'numeric'"
      ],
      "text/plain": [
       "[1] \"numeric\""
      ]
     },
     "metadata": {},
     "output_type": "display_data"
    }
   ],
   "source": [
    "# convert vector x from numeric to character\n",
    "x <- as.character(x)\n",
    "class(x)\n",
    "\n",
    "# convert back to numeric:\n",
    "x <- as.numeric(x)\n",
    "class(x)"
   ]
  },
  {
   "cell_type": "markdown",
   "id": "018f1943",
   "metadata": {},
   "source": [
    "Right now, our vectors `x` and `z` exist as separate objects. We can check what objects R sees in our current environment with the `ls` (list objects) function:"
   ]
  },
  {
   "cell_type": "code",
   "execution_count": 6,
   "id": "3435c5e7",
   "metadata": {
    "vscode": {
     "languageId": "r"
    }
   },
   "outputs": [
    {
     "data": {
      "text/html": [
       "<style>\n",
       ".list-inline {list-style: none; margin:0; padding: 0}\n",
       ".list-inline>li {display: inline-block}\n",
       ".list-inline>li:not(:last-child)::after {content: \"\\00b7\"; padding: 0 .5ex}\n",
       "</style>\n",
       "<ol class=list-inline><li>'x'</li><li>'z'</li></ol>\n"
      ],
      "text/latex": [
       "\\begin{enumerate*}\n",
       "\\item 'x'\n",
       "\\item 'z'\n",
       "\\end{enumerate*}\n"
      ],
      "text/markdown": [
       "1. 'x'\n",
       "2. 'z'\n",
       "\n",
       "\n"
      ],
      "text/plain": [
       "[1] \"x\" \"z\""
      ]
     },
     "metadata": {},
     "output_type": "display_data"
    }
   ],
   "source": [
    "ls()"
   ]
  },
  {
   "cell_type": "markdown",
   "id": "173930e1",
   "metadata": {},
   "source": [
    "However, we often interact with data in datasets, which R refers to as *data frames*. We can combine our two, 10-row vectors together into a data frame assigned as a named object:"
   ]
  },
  {
   "cell_type": "code",
   "execution_count": 7,
   "id": "19210897",
   "metadata": {
    "vscode": {
     "languageId": "r"
    }
   },
   "outputs": [],
   "source": [
    "# this function will stitch together one column of data with another\n",
    "# so, 1 goes with a, 2 goes with b, etc\n",
    "\n",
    "simple.df <- data.frame(x, z)\n"
   ]
  },
  {
   "cell_type": "markdown",
   "id": "130db1b3",
   "metadata": {},
   "source": [
    "A handful of simple functions are useful for examining data frames:\n",
    "\n",
    "- `head()`: shows the header and first several rows of the data frame. \n",
    "- `names()`: shows the names of each column in your data frame.\n",
    "- `table()`: shows the values of columns of data, ordered by values."
   ]
  },
  {
   "cell_type": "code",
   "execution_count": 8,
   "id": "a32c5c2e",
   "metadata": {
    "vscode": {
     "languageId": "r"
    }
   },
   "outputs": [
    {
     "data": {
      "text/html": [
       "<table class=\"dataframe\">\n",
       "<caption>A data.frame: 6 × 2</caption>\n",
       "<thead>\n",
       "\t<tr><th></th><th scope=col>x</th><th scope=col>z</th></tr>\n",
       "\t<tr><th></th><th scope=col>&lt;dbl&gt;</th><th scope=col>&lt;chr&gt;</th></tr>\n",
       "</thead>\n",
       "<tbody>\n",
       "\t<tr><th scope=row>1</th><td>1</td><td>a</td></tr>\n",
       "\t<tr><th scope=row>2</th><td>2</td><td>b</td></tr>\n",
       "\t<tr><th scope=row>3</th><td>3</td><td>c</td></tr>\n",
       "\t<tr><th scope=row>4</th><td>4</td><td>d</td></tr>\n",
       "\t<tr><th scope=row>5</th><td>5</td><td>e</td></tr>\n",
       "\t<tr><th scope=row>6</th><td>6</td><td>f</td></tr>\n",
       "</tbody>\n",
       "</table>\n"
      ],
      "text/latex": [
       "A data.frame: 6 × 2\n",
       "\\begin{tabular}{r|ll}\n",
       "  & x & z\\\\\n",
       "  & <dbl> & <chr>\\\\\n",
       "\\hline\n",
       "\t1 & 1 & a\\\\\n",
       "\t2 & 2 & b\\\\\n",
       "\t3 & 3 & c\\\\\n",
       "\t4 & 4 & d\\\\\n",
       "\t5 & 5 & e\\\\\n",
       "\t6 & 6 & f\\\\\n",
       "\\end{tabular}\n"
      ],
      "text/markdown": [
       "\n",
       "A data.frame: 6 × 2\n",
       "\n",
       "| <!--/--> | x &lt;dbl&gt; | z &lt;chr&gt; |\n",
       "|---|---|---|\n",
       "| 1 | 1 | a |\n",
       "| 2 | 2 | b |\n",
       "| 3 | 3 | c |\n",
       "| 4 | 4 | d |\n",
       "| 5 | 5 | e |\n",
       "| 6 | 6 | f |\n",
       "\n"
      ],
      "text/plain": [
       "  x z\n",
       "1 1 a\n",
       "2 2 b\n",
       "3 3 c\n",
       "4 4 d\n",
       "5 5 e\n",
       "6 6 f"
      ]
     },
     "metadata": {},
     "output_type": "display_data"
    },
    {
     "data": {
      "text/html": [
       "<table class=\"dataframe\">\n",
       "<caption>A data.frame: 10 × 2</caption>\n",
       "<thead>\n",
       "\t<tr><th></th><th scope=col>x</th><th scope=col>z</th></tr>\n",
       "\t<tr><th></th><th scope=col>&lt;dbl&gt;</th><th scope=col>&lt;chr&gt;</th></tr>\n",
       "</thead>\n",
       "<tbody>\n",
       "\t<tr><th scope=row>1</th><td> 1</td><td>a</td></tr>\n",
       "\t<tr><th scope=row>2</th><td> 2</td><td>b</td></tr>\n",
       "\t<tr><th scope=row>3</th><td> 3</td><td>c</td></tr>\n",
       "\t<tr><th scope=row>4</th><td> 4</td><td>d</td></tr>\n",
       "\t<tr><th scope=row>5</th><td> 5</td><td>e</td></tr>\n",
       "\t<tr><th scope=row>6</th><td> 6</td><td>f</td></tr>\n",
       "\t<tr><th scope=row>7</th><td> 7</td><td>g</td></tr>\n",
       "\t<tr><th scope=row>8</th><td> 8</td><td>i</td></tr>\n",
       "\t<tr><th scope=row>9</th><td> 9</td><td>j</td></tr>\n",
       "\t<tr><th scope=row>10</th><td>10</td><td>k</td></tr>\n",
       "</tbody>\n",
       "</table>\n"
      ],
      "text/latex": [
       "A data.frame: 10 × 2\n",
       "\\begin{tabular}{r|ll}\n",
       "  & x & z\\\\\n",
       "  & <dbl> & <chr>\\\\\n",
       "\\hline\n",
       "\t1 &  1 & a\\\\\n",
       "\t2 &  2 & b\\\\\n",
       "\t3 &  3 & c\\\\\n",
       "\t4 &  4 & d\\\\\n",
       "\t5 &  5 & e\\\\\n",
       "\t6 &  6 & f\\\\\n",
       "\t7 &  7 & g\\\\\n",
       "\t8 &  8 & i\\\\\n",
       "\t9 &  9 & j\\\\\n",
       "\t10 & 10 & k\\\\\n",
       "\\end{tabular}\n"
      ],
      "text/markdown": [
       "\n",
       "A data.frame: 10 × 2\n",
       "\n",
       "| <!--/--> | x &lt;dbl&gt; | z &lt;chr&gt; |\n",
       "|---|---|---|\n",
       "| 1 |  1 | a |\n",
       "| 2 |  2 | b |\n",
       "| 3 |  3 | c |\n",
       "| 4 |  4 | d |\n",
       "| 5 |  5 | e |\n",
       "| 6 |  6 | f |\n",
       "| 7 |  7 | g |\n",
       "| 8 |  8 | i |\n",
       "| 9 |  9 | j |\n",
       "| 10 | 10 | k |\n",
       "\n"
      ],
      "text/plain": [
       "   x  z\n",
       "1   1 a\n",
       "2   2 b\n",
       "3   3 c\n",
       "4   4 d\n",
       "5   5 e\n",
       "6   6 f\n",
       "7   7 g\n",
       "8   8 i\n",
       "9   9 j\n",
       "10 10 k"
      ]
     },
     "metadata": {},
     "output_type": "display_data"
    }
   ],
   "source": [
    "# by default, head() shows the column names and \n",
    "#   the first six rows\n",
    "head(simple.df)\n",
    "\n",
    "# we can add rows to our glimpse of data by using the `n =` argument:\n",
    "head(simple.df, n = 10)"
   ]
  },
  {
   "cell_type": "code",
   "execution_count": null,
   "id": "43b6d636",
   "metadata": {
    "vscode": {
     "languageId": "r"
    }
   },
   "outputs": [
    {
     "data": {
      "text/html": [
       "<style>\n",
       ".list-inline {list-style: none; margin:0; padding: 0}\n",
       ".list-inline>li {display: inline-block}\n",
       ".list-inline>li:not(:last-child)::after {content: \"\\00b7\"; padding: 0 .5ex}\n",
       "</style>\n",
       "<ol class=list-inline><li>'x'</li><li>'z'</li></ol>\n"
      ],
      "text/latex": [
       "\\begin{enumerate*}\n",
       "\\item 'x'\n",
       "\\item 'z'\n",
       "\\end{enumerate*}\n"
      ],
      "text/markdown": [
       "1. 'x'\n",
       "2. 'z'\n",
       "\n",
       "\n"
      ],
      "text/plain": [
       "[1] \"x\" \"z\""
      ]
     },
     "metadata": {},
     "output_type": "display_data"
    }
   ],
   "source": [
    "# names() is an easy function to get all of our column names \n",
    "#   we could then store this as a list if we wanted to or plug\n",
    "#   into some other function\n",
    "names(simple.df)"
   ]
  },
  {
   "cell_type": "markdown",
   "id": "53eed1b6",
   "metadata": {},
   "source": [
    "When performing analyses on a data frame, we can access column data using the `df$column.name` format. The `table()` function below will present all values of a column of data and the number of rows with that value."
   ]
  },
  {
   "cell_type": "code",
   "execution_count": 10,
   "id": "af822d27",
   "metadata": {
    "vscode": {
     "languageId": "r"
    }
   },
   "outputs": [
    {
     "data": {
      "text/plain": [
       "\n",
       " 1  2  3  4  5  6  7  8  9 10 \n",
       " 1  1  1  1  1  1  1  1  1  1 "
      ]
     },
     "metadata": {},
     "output_type": "display_data"
    },
    {
     "data": {
      "text/plain": [
       "\n",
       "a b c d e f g i j k \n",
       "1 1 1 1 1 1 1 1 1 1 "
      ]
     },
     "metadata": {},
     "output_type": "display_data"
    },
    {
     "data": {
      "text/plain": [
       "    \n",
       "     a b c d e f g i j k\n",
       "  1  1 0 0 0 0 0 0 0 0 0\n",
       "  2  0 1 0 0 0 0 0 0 0 0\n",
       "  3  0 0 1 0 0 0 0 0 0 0\n",
       "  4  0 0 0 1 0 0 0 0 0 0\n",
       "  5  0 0 0 0 1 0 0 0 0 0\n",
       "  6  0 0 0 0 0 1 0 0 0 0\n",
       "  7  0 0 0 0 0 0 1 0 0 0\n",
       "  8  0 0 0 0 0 0 0 1 0 0\n",
       "  9  0 0 0 0 0 0 0 0 1 0\n",
       "  10 0 0 0 0 0 0 0 0 0 1"
      ]
     },
     "metadata": {},
     "output_type": "display_data"
    }
   ],
   "source": [
    "# show all unique value of x and the number of rows with each value\n",
    "table(simple.df$x)\n",
    "\n",
    "# now do z\n",
    "table(simple.df$z)\n",
    "\n",
    "# we can present all combinations of x and z and the counts for each\n",
    "#   combined group of values\n",
    "table(simple.df$x, simple.df$z)\n"
   ]
  },
  {
   "cell_type": "markdown",
   "id": "bf2c197a",
   "metadata": {},
   "source": [
    "## The tidyverse \n",
    "\n",
    "The [`tidyverse`](https://www.tidyverse.org/packages/) is a suite of very popular packages that are useful for data management, data transformation, and graphing in R. By loading `tidyverse`, you are also loading other very useful functions from some other packages for reading and importing data. \n",
    "\n",
    "The `tidyverse` uses a particular kind of data frame storage, known as a `tibble`. The `tidyverse` is very helpful when using data as entire datasets. We can easily filter out observations, aggregate data, and recode variables using `tidyverse` functions. "
   ]
  },
  {
   "cell_type": "code",
   "execution_count": 11,
   "id": "38ba8e63",
   "metadata": {
    "vscode": {
     "languageId": "r"
    }
   },
   "outputs": [],
   "source": [
    "# we can convert our data frame to the tibble format easily:\n",
    "simple.df <- tibble(simple.df)"
   ]
  },
  {
   "cell_type": "markdown",
   "id": "bfe60cdf",
   "metadata": {},
   "source": [
    "## Creating and recoding variables\n",
    "\n",
    "R functions are vectorized; that is, they can take a column of data as an input and perform the same procedure on each cell in the column. So we can, say, create a new column of data that performs mathematical operations on existing columns easily. Here are two ways to accomplish this: "
   ]
  },
  {
   "cell_type": "code",
   "execution_count": 12,
   "id": "291b4567",
   "metadata": {
    "vscode": {
     "languageId": "r"
    }
   },
   "outputs": [
    {
     "data": {
      "text/html": [
       "<table class=\"dataframe\">\n",
       "<caption>A tibble: 10 × 4</caption>\n",
       "<thead>\n",
       "\t<tr><th scope=col>x</th><th scope=col>z</th><th scope=col>x2</th><th scope=col>x3</th></tr>\n",
       "\t<tr><th scope=col>&lt;dbl&gt;</th><th scope=col>&lt;chr&gt;</th><th scope=col>&lt;dbl&gt;</th><th scope=col>&lt;dbl&gt;</th></tr>\n",
       "</thead>\n",
       "<tbody>\n",
       "\t<tr><td> 1</td><td>a</td><td>  1</td><td>   1</td></tr>\n",
       "\t<tr><td> 2</td><td>b</td><td>  4</td><td>   8</td></tr>\n",
       "\t<tr><td> 3</td><td>c</td><td>  9</td><td>  27</td></tr>\n",
       "\t<tr><td> 4</td><td>d</td><td> 16</td><td>  64</td></tr>\n",
       "\t<tr><td> 5</td><td>e</td><td> 25</td><td> 125</td></tr>\n",
       "\t<tr><td> 6</td><td>f</td><td> 36</td><td> 216</td></tr>\n",
       "\t<tr><td> 7</td><td>g</td><td> 49</td><td> 343</td></tr>\n",
       "\t<tr><td> 8</td><td>i</td><td> 64</td><td> 512</td></tr>\n",
       "\t<tr><td> 9</td><td>j</td><td> 81</td><td> 729</td></tr>\n",
       "\t<tr><td>10</td><td>k</td><td>100</td><td>1000</td></tr>\n",
       "</tbody>\n",
       "</table>\n"
      ],
      "text/latex": [
       "A tibble: 10 × 4\n",
       "\\begin{tabular}{llll}\n",
       " x & z & x2 & x3\\\\\n",
       " <dbl> & <chr> & <dbl> & <dbl>\\\\\n",
       "\\hline\n",
       "\t  1 & a &   1 &    1\\\\\n",
       "\t  2 & b &   4 &    8\\\\\n",
       "\t  3 & c &   9 &   27\\\\\n",
       "\t  4 & d &  16 &   64\\\\\n",
       "\t  5 & e &  25 &  125\\\\\n",
       "\t  6 & f &  36 &  216\\\\\n",
       "\t  7 & g &  49 &  343\\\\\n",
       "\t  8 & i &  64 &  512\\\\\n",
       "\t  9 & j &  81 &  729\\\\\n",
       "\t 10 & k & 100 & 1000\\\\\n",
       "\\end{tabular}\n"
      ],
      "text/markdown": [
       "\n",
       "A tibble: 10 × 4\n",
       "\n",
       "| x &lt;dbl&gt; | z &lt;chr&gt; | x2 &lt;dbl&gt; | x3 &lt;dbl&gt; |\n",
       "|---|---|---|---|\n",
       "|  1 | a |   1 |    1 |\n",
       "|  2 | b |   4 |    8 |\n",
       "|  3 | c |   9 |   27 |\n",
       "|  4 | d |  16 |   64 |\n",
       "|  5 | e |  25 |  125 |\n",
       "|  6 | f |  36 |  216 |\n",
       "|  7 | g |  49 |  343 |\n",
       "|  8 | i |  64 |  512 |\n",
       "|  9 | j |  81 |  729 |\n",
       "| 10 | k | 100 | 1000 |\n",
       "\n"
      ],
      "text/plain": [
       "   x  z x2  x3  \n",
       "1   1 a   1    1\n",
       "2   2 b   4    8\n",
       "3   3 c   9   27\n",
       "4   4 d  16   64\n",
       "5   5 e  25  125\n",
       "6   6 f  36  216\n",
       "7   7 g  49  343\n",
       "8   8 i  64  512\n",
       "9   9 j  81  729\n",
       "10 10 k 100 1000"
      ]
     },
     "metadata": {},
     "output_type": "display_data"
    }
   ],
   "source": [
    "# base R:\n",
    "simple.df$x2 <- simple.df$x^2\n",
    "\n",
    "# in tidyverse (technically dplyr package)\n",
    "simple.df <- simple.df |> mutate(x3 = x^3)\n",
    "\n",
    "# let's check our work:\n",
    "simple.df"
   ]
  },
  {
   "cell_type": "markdown",
   "id": "f4c404bc",
   "metadata": {},
   "source": [
    "We probably need to interpret that `dplyr` line of code:\n",
    "\n",
    "`simple.df <- simple.df |> mutate(x3 = x^3)`\n",
    "\n",
    "The `|>` is known as the \"pipe\"; it takes the output from what is to its left and \"pipes\" it into the function on the right. So in this case, we take our data frame (`simple.df`) and pipe it into the `mutate` function, which is the `tidyverse` function for changing and transforming columns of data in a data frame. Here, we create a new column or variable named `x3` and set it equal to an existing column `x` to the third power. \n",
    "\n",
    "If we omitted the `simple.df <-` part at the beginning of the function, R would perform the requested action and print it in the console, but it would leave `simple.df` unchanged in our environment. Here we assign our new data frame over our existing one. Be careful when you do this - there are many instances in which it would be better to assign your new data to a different data frame rather than writing over the existing one. \n",
    "\n",
    "We can do more complex recodes as well. In the code below, we use `if_else()` and `case_when()` functions inside of `mutate()` to create a binary variable and an ordinal variable, respectively. Notice that our two new columns of data are both inside the same `mutate()` function call, just separated by a comma. This way you can string together many variable recodes in the same section of code. "
   ]
  },
  {
   "cell_type": "code",
   "execution_count": null,
   "id": "6121a8c9",
   "metadata": {
    "vscode": {
     "languageId": "r"
    }
   },
   "outputs": [
    {
     "data": {
      "text/html": [
       "<table class=\"dataframe\">\n",
       "<caption>A tibble: 10 × 6</caption>\n",
       "<thead>\n",
       "\t<tr><th scope=col>x</th><th scope=col>z</th><th scope=col>x2</th><th scope=col>x3</th><th scope=col>day.interviewed</th><th scope=col>treat_ordered</th></tr>\n",
       "\t<tr><th scope=col>&lt;dbl&gt;</th><th scope=col>&lt;chr&gt;</th><th scope=col>&lt;dbl&gt;</th><th scope=col>&lt;dbl&gt;</th><th scope=col>&lt;dbl&gt;</th><th scope=col>&lt;dbl&gt;</th></tr>\n",
       "</thead>\n",
       "<tbody>\n",
       "\t<tr><td> 1</td><td>a</td><td>  1</td><td>   1</td><td>1</td><td> 1</td></tr>\n",
       "\t<tr><td> 2</td><td>b</td><td>  4</td><td>   8</td><td>1</td><td> 1</td></tr>\n",
       "\t<tr><td> 3</td><td>c</td><td>  9</td><td>  27</td><td>1</td><td> 1</td></tr>\n",
       "\t<tr><td> 4</td><td>d</td><td> 16</td><td>  64</td><td>1</td><td> 2</td></tr>\n",
       "\t<tr><td> 5</td><td>e</td><td> 25</td><td> 125</td><td>1</td><td> 2</td></tr>\n",
       "\t<tr><td> 6</td><td>f</td><td> 36</td><td> 216</td><td>2</td><td> 2</td></tr>\n",
       "\t<tr><td> 7</td><td>g</td><td> 49</td><td> 343</td><td>2</td><td> 3</td></tr>\n",
       "\t<tr><td> 8</td><td>i</td><td> 64</td><td> 512</td><td>2</td><td> 3</td></tr>\n",
       "\t<tr><td> 9</td><td>j</td><td> 81</td><td> 729</td><td>2</td><td>NA</td></tr>\n",
       "\t<tr><td>10</td><td>k</td><td>100</td><td>1000</td><td>2</td><td>NA</td></tr>\n",
       "</tbody>\n",
       "</table>\n"
      ],
      "text/latex": [
       "A tibble: 10 × 6\n",
       "\\begin{tabular}{llllll}\n",
       " x & z & x2 & x3 & day.interviewed & treat\\_ordered\\\\\n",
       " <dbl> & <chr> & <dbl> & <dbl> & <dbl> & <dbl>\\\\\n",
       "\\hline\n",
       "\t  1 & a &   1 &    1 & 1 &  1\\\\\n",
       "\t  2 & b &   4 &    8 & 1 &  1\\\\\n",
       "\t  3 & c &   9 &   27 & 1 &  1\\\\\n",
       "\t  4 & d &  16 &   64 & 1 &  2\\\\\n",
       "\t  5 & e &  25 &  125 & 1 &  2\\\\\n",
       "\t  6 & f &  36 &  216 & 2 &  2\\\\\n",
       "\t  7 & g &  49 &  343 & 2 &  3\\\\\n",
       "\t  8 & i &  64 &  512 & 2 &  3\\\\\n",
       "\t  9 & j &  81 &  729 & 2 & NA\\\\\n",
       "\t 10 & k & 100 & 1000 & 2 & NA\\\\\n",
       "\\end{tabular}\n"
      ],
      "text/markdown": [
       "\n",
       "A tibble: 10 × 6\n",
       "\n",
       "| x &lt;dbl&gt; | z &lt;chr&gt; | x2 &lt;dbl&gt; | x3 &lt;dbl&gt; | day.interviewed &lt;dbl&gt; | treat_ordered &lt;dbl&gt; |\n",
       "|---|---|---|---|---|---|\n",
       "|  1 | a |   1 |    1 | 1 |  1 |\n",
       "|  2 | b |   4 |    8 | 1 |  1 |\n",
       "|  3 | c |   9 |   27 | 1 |  1 |\n",
       "|  4 | d |  16 |   64 | 1 |  2 |\n",
       "|  5 | e |  25 |  125 | 1 |  2 |\n",
       "|  6 | f |  36 |  216 | 2 |  2 |\n",
       "|  7 | g |  49 |  343 | 2 |  3 |\n",
       "|  8 | i |  64 |  512 | 2 |  3 |\n",
       "|  9 | j |  81 |  729 | 2 | NA |\n",
       "| 10 | k | 100 | 1000 | 2 | NA |\n",
       "\n"
      ],
      "text/plain": [
       "   x  z x2  x3   day.interviewed treat_ordered\n",
       "1   1 a   1    1 1                1           \n",
       "2   2 b   4    8 1                1           \n",
       "3   3 c   9   27 1                1           \n",
       "4   4 d  16   64 1                2           \n",
       "5   5 e  25  125 1                2           \n",
       "6   6 f  36  216 2                2           \n",
       "7   7 g  49  343 2                3           \n",
       "8   8 i  64  512 2                3           \n",
       "9   9 j  81  729 2               NA           \n",
       "10 10 k 100 1000 2               NA           "
      ]
     },
     "metadata": {},
     "output_type": "display_data"
    }
   ],
   "source": [
    "# if_else() allows us to use conditional statements. First argument is \n",
    "#   the condition. In this case, x is less than or equal to 5. \n",
    "#   Second argument is what to code the rows if the condition is met.\n",
    "#   In this case, we'll give it a 1. Third argument is \n",
    "#   the value for observations where the condition isn't met, here a 2.\n",
    "#   Last argument is what to do with missing data. Here, we give the \n",
    "#   standard NA code for missing data in R. So our new column will be named\n",
    "#   day.interviewed and will receive the results of the if_else() statement. \n",
    "\n",
    "# case_when is similar. It takes, on the left-hand side, conditions (here values\n",
    "#   of our string or character variable z) and assigns them codes in the new\n",
    "#   colum. The tilde (~) symbol represents assignment. So rows where z is a, b, or c\n",
    "#   is assigned a value of 1 in the new column.\n",
    "#   Note the last statement, TRUE ~ NA. TRUE here captures all other values not\n",
    "#   identified in the previous conditions and codes them as missing data (NA).\n",
    "\n",
    "# In these conditional statements, you can use == (equals), < (less than), > (greater than),\n",
    "#   <= (less than or equal to), >= (greater than or equal to), and != (does not equal), \n",
    "#   among others. You can also use Boolean operators like & (and) and | (or) to connect \n",
    "#   multiple conditions together in the same statement. \n",
    "\n",
    "simple.df <- simple.df |> \n",
    "                mutate(day.interviewed = if_else(x <= 5,\n",
    "                                              true = 1,\n",
    "                                              false = 2,\n",
    "                                              missing = NA),\n",
    "                       treat_ordered = case_when(\n",
    "                                            z == \"a\" | z == \"b\" | z == \"c\" ~ 1,\n",
    "                                            z == \"d\" | z == \"e\" | z == \"f\" ~ 2,\n",
    "                                            z == \"g\" | z == \"h\" | z == \"i\" ~ 3,\n",
    "                                            TRUE ~ NA)\n",
    "                      )\n",
    "\n",
    "simple.df"
   ]
  },
  {
   "cell_type": "markdown",
   "id": "04bdc9e3",
   "metadata": {},
   "source": [
    "## Selecting specific columns and rows of your data\n",
    "\n",
    "You can easily limit your data frame to particular rows or columns - we might do this if we want to run an analysis on just a subset of observations or make a table using a subset of variables. To accomplish this, we can use `dplyr` functions bundled in the `tidyverse`.\n",
    "\n",
    "#### `filter()`\n",
    "\n",
    "The `filter()` function allows you to select specific rows (or observations) in your data. Let's go over some examples:"
   ]
  },
  {
   "cell_type": "code",
   "execution_count": null,
   "id": "f4fd4364",
   "metadata": {
    "vscode": {
     "languageId": "r"
    }
   },
   "outputs": [
    {
     "data": {
      "text/html": [
       "<table class=\"dataframe\">\n",
       "<caption>A tibble: 5 × 6</caption>\n",
       "<thead>\n",
       "\t<tr><th scope=col>x</th><th scope=col>z</th><th scope=col>x2</th><th scope=col>x3</th><th scope=col>day.interviewed</th><th scope=col>treat_ordered</th></tr>\n",
       "\t<tr><th scope=col>&lt;dbl&gt;</th><th scope=col>&lt;chr&gt;</th><th scope=col>&lt;dbl&gt;</th><th scope=col>&lt;dbl&gt;</th><th scope=col>&lt;dbl&gt;</th><th scope=col>&lt;dbl&gt;</th></tr>\n",
       "</thead>\n",
       "<tbody>\n",
       "\t<tr><td>1</td><td>a</td><td> 1</td><td>  1</td><td>1</td><td>1</td></tr>\n",
       "\t<tr><td>2</td><td>b</td><td> 4</td><td>  8</td><td>1</td><td>1</td></tr>\n",
       "\t<tr><td>3</td><td>c</td><td> 9</td><td> 27</td><td>1</td><td>1</td></tr>\n",
       "\t<tr><td>4</td><td>d</td><td>16</td><td> 64</td><td>1</td><td>2</td></tr>\n",
       "\t<tr><td>5</td><td>e</td><td>25</td><td>125</td><td>1</td><td>2</td></tr>\n",
       "</tbody>\n",
       "</table>\n"
      ],
      "text/latex": [
       "A tibble: 5 × 6\n",
       "\\begin{tabular}{llllll}\n",
       " x & z & x2 & x3 & day.interviewed & treat\\_ordered\\\\\n",
       " <dbl> & <chr> & <dbl> & <dbl> & <dbl> & <dbl>\\\\\n",
       "\\hline\n",
       "\t 1 & a &  1 &   1 & 1 & 1\\\\\n",
       "\t 2 & b &  4 &   8 & 1 & 1\\\\\n",
       "\t 3 & c &  9 &  27 & 1 & 1\\\\\n",
       "\t 4 & d & 16 &  64 & 1 & 2\\\\\n",
       "\t 5 & e & 25 & 125 & 1 & 2\\\\\n",
       "\\end{tabular}\n"
      ],
      "text/markdown": [
       "\n",
       "A tibble: 5 × 6\n",
       "\n",
       "| x &lt;dbl&gt; | z &lt;chr&gt; | x2 &lt;dbl&gt; | x3 &lt;dbl&gt; | day.interviewed &lt;dbl&gt; | treat_ordered &lt;dbl&gt; |\n",
       "|---|---|---|---|---|---|\n",
       "| 1 | a |  1 |   1 | 1 | 1 |\n",
       "| 2 | b |  4 |   8 | 1 | 1 |\n",
       "| 3 | c |  9 |  27 | 1 | 1 |\n",
       "| 4 | d | 16 |  64 | 1 | 2 |\n",
       "| 5 | e | 25 | 125 | 1 | 2 |\n",
       "\n"
      ],
      "text/plain": [
       "  x z x2 x3  day.interviewed treat_ordered\n",
       "1 1 a  1   1 1               1            \n",
       "2 2 b  4   8 1               1            \n",
       "3 3 c  9  27 1               1            \n",
       "4 4 d 16  64 1               2            \n",
       "5 5 e 25 125 1               2            "
      ]
     },
     "metadata": {},
     "output_type": "display_data"
    },
    {
     "data": {
      "text/html": [
       "<table class=\"dataframe\">\n",
       "<caption>A tibble: 1 × 6</caption>\n",
       "<thead>\n",
       "\t<tr><th scope=col>x</th><th scope=col>z</th><th scope=col>x2</th><th scope=col>x3</th><th scope=col>day.interviewed</th><th scope=col>treat_ordered</th></tr>\n",
       "\t<tr><th scope=col>&lt;dbl&gt;</th><th scope=col>&lt;chr&gt;</th><th scope=col>&lt;dbl&gt;</th><th scope=col>&lt;dbl&gt;</th><th scope=col>&lt;dbl&gt;</th><th scope=col>&lt;dbl&gt;</th></tr>\n",
       "</thead>\n",
       "<tbody>\n",
       "\t<tr><td>6</td><td>f</td><td>36</td><td>216</td><td>2</td><td>2</td></tr>\n",
       "</tbody>\n",
       "</table>\n"
      ],
      "text/latex": [
       "A tibble: 1 × 6\n",
       "\\begin{tabular}{llllll}\n",
       " x & z & x2 & x3 & day.interviewed & treat\\_ordered\\\\\n",
       " <dbl> & <chr> & <dbl> & <dbl> & <dbl> & <dbl>\\\\\n",
       "\\hline\n",
       "\t 6 & f & 36 & 216 & 2 & 2\\\\\n",
       "\\end{tabular}\n"
      ],
      "text/markdown": [
       "\n",
       "A tibble: 1 × 6\n",
       "\n",
       "| x &lt;dbl&gt; | z &lt;chr&gt; | x2 &lt;dbl&gt; | x3 &lt;dbl&gt; | day.interviewed &lt;dbl&gt; | treat_ordered &lt;dbl&gt; |\n",
       "|---|---|---|---|---|---|\n",
       "| 6 | f | 36 | 216 | 2 | 2 |\n",
       "\n"
      ],
      "text/plain": [
       "  x z x2 x3  day.interviewed treat_ordered\n",
       "1 6 f 36 216 2               2            "
      ]
     },
     "metadata": {},
     "output_type": "display_data"
    },
    {
     "data": {
      "text/html": [
       "<table class=\"dataframe\">\n",
       "<caption>A tibble: 6 × 6</caption>\n",
       "<thead>\n",
       "\t<tr><th scope=col>x</th><th scope=col>z</th><th scope=col>x2</th><th scope=col>x3</th><th scope=col>day.interviewed</th><th scope=col>treat_ordered</th></tr>\n",
       "\t<tr><th scope=col>&lt;dbl&gt;</th><th scope=col>&lt;chr&gt;</th><th scope=col>&lt;dbl&gt;</th><th scope=col>&lt;dbl&gt;</th><th scope=col>&lt;dbl&gt;</th><th scope=col>&lt;dbl&gt;</th></tr>\n",
       "</thead>\n",
       "<tbody>\n",
       "\t<tr><td>1</td><td>a</td><td> 1</td><td>  1</td><td>1</td><td>1</td></tr>\n",
       "\t<tr><td>2</td><td>b</td><td> 4</td><td>  8</td><td>1</td><td>1</td></tr>\n",
       "\t<tr><td>3</td><td>c</td><td> 9</td><td> 27</td><td>1</td><td>1</td></tr>\n",
       "\t<tr><td>4</td><td>d</td><td>16</td><td> 64</td><td>1</td><td>2</td></tr>\n",
       "\t<tr><td>5</td><td>e</td><td>25</td><td>125</td><td>1</td><td>2</td></tr>\n",
       "\t<tr><td>6</td><td>f</td><td>36</td><td>216</td><td>2</td><td>2</td></tr>\n",
       "</tbody>\n",
       "</table>\n"
      ],
      "text/latex": [
       "A tibble: 6 × 6\n",
       "\\begin{tabular}{llllll}\n",
       " x & z & x2 & x3 & day.interviewed & treat\\_ordered\\\\\n",
       " <dbl> & <chr> & <dbl> & <dbl> & <dbl> & <dbl>\\\\\n",
       "\\hline\n",
       "\t 1 & a &  1 &   1 & 1 & 1\\\\\n",
       "\t 2 & b &  4 &   8 & 1 & 1\\\\\n",
       "\t 3 & c &  9 &  27 & 1 & 1\\\\\n",
       "\t 4 & d & 16 &  64 & 1 & 2\\\\\n",
       "\t 5 & e & 25 & 125 & 1 & 2\\\\\n",
       "\t 6 & f & 36 & 216 & 2 & 2\\\\\n",
       "\\end{tabular}\n"
      ],
      "text/markdown": [
       "\n",
       "A tibble: 6 × 6\n",
       "\n",
       "| x &lt;dbl&gt; | z &lt;chr&gt; | x2 &lt;dbl&gt; | x3 &lt;dbl&gt; | day.interviewed &lt;dbl&gt; | treat_ordered &lt;dbl&gt; |\n",
       "|---|---|---|---|---|---|\n",
       "| 1 | a |  1 |   1 | 1 | 1 |\n",
       "| 2 | b |  4 |   8 | 1 | 1 |\n",
       "| 3 | c |  9 |  27 | 1 | 1 |\n",
       "| 4 | d | 16 |  64 | 1 | 2 |\n",
       "| 5 | e | 25 | 125 | 1 | 2 |\n",
       "| 6 | f | 36 | 216 | 2 | 2 |\n",
       "\n"
      ],
      "text/plain": [
       "  x z x2 x3  day.interviewed treat_ordered\n",
       "1 1 a  1   1 1               1            \n",
       "2 2 b  4   8 1               1            \n",
       "3 3 c  9  27 1               1            \n",
       "4 4 d 16  64 1               2            \n",
       "5 5 e 25 125 1               2            \n",
       "6 6 f 36 216 2               2            "
      ]
     },
     "metadata": {},
     "output_type": "display_data"
    },
    {
     "data": {
      "text/html": [
       "<table class=\"dataframe\">\n",
       "<caption>A tibble: 3 × 6</caption>\n",
       "<thead>\n",
       "\t<tr><th scope=col>x</th><th scope=col>z</th><th scope=col>x2</th><th scope=col>x3</th><th scope=col>day.interviewed</th><th scope=col>treat_ordered</th></tr>\n",
       "\t<tr><th scope=col>&lt;dbl&gt;</th><th scope=col>&lt;chr&gt;</th><th scope=col>&lt;dbl&gt;</th><th scope=col>&lt;dbl&gt;</th><th scope=col>&lt;dbl&gt;</th><th scope=col>&lt;dbl&gt;</th></tr>\n",
       "</thead>\n",
       "<tbody>\n",
       "\t<tr><td>5</td><td>e</td><td>25</td><td>125</td><td>1</td><td>2</td></tr>\n",
       "\t<tr><td>6</td><td>f</td><td>36</td><td>216</td><td>2</td><td>2</td></tr>\n",
       "\t<tr><td>7</td><td>g</td><td>49</td><td>343</td><td>2</td><td>3</td></tr>\n",
       "</tbody>\n",
       "</table>\n"
      ],
      "text/latex": [
       "A tibble: 3 × 6\n",
       "\\begin{tabular}{llllll}\n",
       " x & z & x2 & x3 & day.interviewed & treat\\_ordered\\\\\n",
       " <dbl> & <chr> & <dbl> & <dbl> & <dbl> & <dbl>\\\\\n",
       "\\hline\n",
       "\t 5 & e & 25 & 125 & 1 & 2\\\\\n",
       "\t 6 & f & 36 & 216 & 2 & 2\\\\\n",
       "\t 7 & g & 49 & 343 & 2 & 3\\\\\n",
       "\\end{tabular}\n"
      ],
      "text/markdown": [
       "\n",
       "A tibble: 3 × 6\n",
       "\n",
       "| x &lt;dbl&gt; | z &lt;chr&gt; | x2 &lt;dbl&gt; | x3 &lt;dbl&gt; | day.interviewed &lt;dbl&gt; | treat_ordered &lt;dbl&gt; |\n",
       "|---|---|---|---|---|---|\n",
       "| 5 | e | 25 | 125 | 1 | 2 |\n",
       "| 6 | f | 36 | 216 | 2 | 2 |\n",
       "| 7 | g | 49 | 343 | 2 | 3 |\n",
       "\n"
      ],
      "text/plain": [
       "  x z x2 x3  day.interviewed treat_ordered\n",
       "1 5 e 25 125 1               2            \n",
       "2 6 f 36 216 2               2            \n",
       "3 7 g 49 343 2               3            "
      ]
     },
     "metadata": {},
     "output_type": "display_data"
    },
    {
     "data": {
      "text/html": [
       "<table class=\"dataframe\">\n",
       "<caption>A tibble: 2 × 6</caption>\n",
       "<thead>\n",
       "\t<tr><th scope=col>x</th><th scope=col>z</th><th scope=col>x2</th><th scope=col>x3</th><th scope=col>day.interviewed</th><th scope=col>treat_ordered</th></tr>\n",
       "\t<tr><th scope=col>&lt;dbl&gt;</th><th scope=col>&lt;chr&gt;</th><th scope=col>&lt;dbl&gt;</th><th scope=col>&lt;dbl&gt;</th><th scope=col>&lt;dbl&gt;</th><th scope=col>&lt;dbl&gt;</th></tr>\n",
       "</thead>\n",
       "<tbody>\n",
       "\t<tr><td> 4</td><td>d</td><td> 16</td><td>  64</td><td>1</td><td> 2</td></tr>\n",
       "\t<tr><td>10</td><td>k</td><td>100</td><td>1000</td><td>2</td><td>NA</td></tr>\n",
       "</tbody>\n",
       "</table>\n"
      ],
      "text/latex": [
       "A tibble: 2 × 6\n",
       "\\begin{tabular}{llllll}\n",
       " x & z & x2 & x3 & day.interviewed & treat\\_ordered\\\\\n",
       " <dbl> & <chr> & <dbl> & <dbl> & <dbl> & <dbl>\\\\\n",
       "\\hline\n",
       "\t  4 & d &  16 &   64 & 1 &  2\\\\\n",
       "\t 10 & k & 100 & 1000 & 2 & NA\\\\\n",
       "\\end{tabular}\n"
      ],
      "text/markdown": [
       "\n",
       "A tibble: 2 × 6\n",
       "\n",
       "| x &lt;dbl&gt; | z &lt;chr&gt; | x2 &lt;dbl&gt; | x3 &lt;dbl&gt; | day.interviewed &lt;dbl&gt; | treat_ordered &lt;dbl&gt; |\n",
       "|---|---|---|---|---|---|\n",
       "|  4 | d |  16 |   64 | 1 |  2 |\n",
       "| 10 | k | 100 | 1000 | 2 | NA |\n",
       "\n"
      ],
      "text/plain": [
       "  x  z x2  x3   day.interviewed treat_ordered\n",
       "1  4 d  16   64 1                2           \n",
       "2 10 k 100 1000 2               NA           "
      ]
     },
     "metadata": {},
     "output_type": "display_data"
    }
   ],
   "source": [
    "# keep rows where x is less than 6\n",
    "simple.df |> filter(x < 6)\n",
    "\n",
    "# keep rows where x equals 6 (note the use of two equal signs\n",
    "#   to signal an equality)\n",
    "simple.df |> filter(x == 6)\n",
    "\n",
    "# keep rows where x is less than or equal to 6\n",
    "simple.df |> filter(x <= 6)\n",
    "\n",
    "# keep rows where x is greater than 4 AND less than 8\n",
    "simple.df |> filter(x > 4 & x < 8)\n",
    "\n",
    "# keep rows where z equals d OR k. Note that string data \n",
    "#   must be included inside of quotes\n",
    "simple.df |> filter(z == \"d\" | z == \"k\")"
   ]
  },
  {
   "cell_type": "markdown",
   "id": "bd62936b",
   "metadata": {},
   "source": [
    "#### `select()`\n",
    "\n",
    "The `select()` function allows you to choose columns. "
   ]
  },
  {
   "cell_type": "code",
   "execution_count": null,
   "id": "1e37aa11",
   "metadata": {
    "vscode": {
     "languageId": "r"
    }
   },
   "outputs": [
    {
     "data": {
      "text/html": [
       "<table class=\"dataframe\">\n",
       "<caption>A tibble: 10 × 2</caption>\n",
       "<thead>\n",
       "\t<tr><th scope=col>x</th><th scope=col>z</th></tr>\n",
       "\t<tr><th scope=col>&lt;dbl&gt;</th><th scope=col>&lt;chr&gt;</th></tr>\n",
       "</thead>\n",
       "<tbody>\n",
       "\t<tr><td> 1</td><td>a</td></tr>\n",
       "\t<tr><td> 2</td><td>b</td></tr>\n",
       "\t<tr><td> 3</td><td>c</td></tr>\n",
       "\t<tr><td> 4</td><td>d</td></tr>\n",
       "\t<tr><td> 5</td><td>e</td></tr>\n",
       "\t<tr><td> 6</td><td>f</td></tr>\n",
       "\t<tr><td> 7</td><td>g</td></tr>\n",
       "\t<tr><td> 8</td><td>i</td></tr>\n",
       "\t<tr><td> 9</td><td>j</td></tr>\n",
       "\t<tr><td>10</td><td>k</td></tr>\n",
       "</tbody>\n",
       "</table>\n"
      ],
      "text/latex": [
       "A tibble: 10 × 2\n",
       "\\begin{tabular}{ll}\n",
       " x & z\\\\\n",
       " <dbl> & <chr>\\\\\n",
       "\\hline\n",
       "\t  1 & a\\\\\n",
       "\t  2 & b\\\\\n",
       "\t  3 & c\\\\\n",
       "\t  4 & d\\\\\n",
       "\t  5 & e\\\\\n",
       "\t  6 & f\\\\\n",
       "\t  7 & g\\\\\n",
       "\t  8 & i\\\\\n",
       "\t  9 & j\\\\\n",
       "\t 10 & k\\\\\n",
       "\\end{tabular}\n"
      ],
      "text/markdown": [
       "\n",
       "A tibble: 10 × 2\n",
       "\n",
       "| x &lt;dbl&gt; | z &lt;chr&gt; |\n",
       "|---|---|\n",
       "|  1 | a |\n",
       "|  2 | b |\n",
       "|  3 | c |\n",
       "|  4 | d |\n",
       "|  5 | e |\n",
       "|  6 | f |\n",
       "|  7 | g |\n",
       "|  8 | i |\n",
       "|  9 | j |\n",
       "| 10 | k |\n",
       "\n"
      ],
      "text/plain": [
       "   x  z\n",
       "1   1 a\n",
       "2   2 b\n",
       "3   3 c\n",
       "4   4 d\n",
       "5   5 e\n",
       "6   6 f\n",
       "7   7 g\n",
       "8   8 i\n",
       "9   9 j\n",
       "10 10 k"
      ]
     },
     "metadata": {},
     "output_type": "display_data"
    },
    {
     "data": {
      "text/html": [
       "<table class=\"dataframe\">\n",
       "<caption>A tibble: 10 × 4</caption>\n",
       "<thead>\n",
       "\t<tr><th scope=col>x2</th><th scope=col>x3</th><th scope=col>day.interviewed</th><th scope=col>treat_ordered</th></tr>\n",
       "\t<tr><th scope=col>&lt;dbl&gt;</th><th scope=col>&lt;dbl&gt;</th><th scope=col>&lt;dbl&gt;</th><th scope=col>&lt;dbl&gt;</th></tr>\n",
       "</thead>\n",
       "<tbody>\n",
       "\t<tr><td>  1</td><td>   1</td><td>1</td><td> 1</td></tr>\n",
       "\t<tr><td>  4</td><td>   8</td><td>1</td><td> 1</td></tr>\n",
       "\t<tr><td>  9</td><td>  27</td><td>1</td><td> 1</td></tr>\n",
       "\t<tr><td> 16</td><td>  64</td><td>1</td><td> 2</td></tr>\n",
       "\t<tr><td> 25</td><td> 125</td><td>1</td><td> 2</td></tr>\n",
       "\t<tr><td> 36</td><td> 216</td><td>2</td><td> 2</td></tr>\n",
       "\t<tr><td> 49</td><td> 343</td><td>2</td><td> 3</td></tr>\n",
       "\t<tr><td> 64</td><td> 512</td><td>2</td><td> 3</td></tr>\n",
       "\t<tr><td> 81</td><td> 729</td><td>2</td><td>NA</td></tr>\n",
       "\t<tr><td>100</td><td>1000</td><td>2</td><td>NA</td></tr>\n",
       "</tbody>\n",
       "</table>\n"
      ],
      "text/latex": [
       "A tibble: 10 × 4\n",
       "\\begin{tabular}{llll}\n",
       " x2 & x3 & day.interviewed & treat\\_ordered\\\\\n",
       " <dbl> & <dbl> & <dbl> & <dbl>\\\\\n",
       "\\hline\n",
       "\t   1 &    1 & 1 &  1\\\\\n",
       "\t   4 &    8 & 1 &  1\\\\\n",
       "\t   9 &   27 & 1 &  1\\\\\n",
       "\t  16 &   64 & 1 &  2\\\\\n",
       "\t  25 &  125 & 1 &  2\\\\\n",
       "\t  36 &  216 & 2 &  2\\\\\n",
       "\t  49 &  343 & 2 &  3\\\\\n",
       "\t  64 &  512 & 2 &  3\\\\\n",
       "\t  81 &  729 & 2 & NA\\\\\n",
       "\t 100 & 1000 & 2 & NA\\\\\n",
       "\\end{tabular}\n"
      ],
      "text/markdown": [
       "\n",
       "A tibble: 10 × 4\n",
       "\n",
       "| x2 &lt;dbl&gt; | x3 &lt;dbl&gt; | day.interviewed &lt;dbl&gt; | treat_ordered &lt;dbl&gt; |\n",
       "|---|---|---|---|\n",
       "|   1 |    1 | 1 |  1 |\n",
       "|   4 |    8 | 1 |  1 |\n",
       "|   9 |   27 | 1 |  1 |\n",
       "|  16 |   64 | 1 |  2 |\n",
       "|  25 |  125 | 1 |  2 |\n",
       "|  36 |  216 | 2 |  2 |\n",
       "|  49 |  343 | 2 |  3 |\n",
       "|  64 |  512 | 2 |  3 |\n",
       "|  81 |  729 | 2 | NA |\n",
       "| 100 | 1000 | 2 | NA |\n",
       "\n"
      ],
      "text/plain": [
       "   x2  x3   day.interviewed treat_ordered\n",
       "1    1    1 1                1           \n",
       "2    4    8 1                1           \n",
       "3    9   27 1                1           \n",
       "4   16   64 1                2           \n",
       "5   25  125 1                2           \n",
       "6   36  216 2                2           \n",
       "7   49  343 2                3           \n",
       "8   64  512 2                3           \n",
       "9   81  729 2               NA           \n",
       "10 100 1000 2               NA           "
      ]
     },
     "metadata": {},
     "output_type": "display_data"
    }
   ],
   "source": [
    "# select() takes as arguments the names of your columns. No quotes needed.\n",
    "simple.df |> select(x, z)\n",
    "\n",
    "# we could also select \"not\" something, using the ! symbol\n",
    "#   although we need to include our list of names inside of \n",
    "#   c() for this to work.\n",
    "simple.df |> select(!c(x, z))"
   ]
  },
  {
   "cell_type": "markdown",
   "id": "962370ef",
   "metadata": {},
   "source": [
    "The pipe is very powerful, and it lets us connect together functions in an efficient way. Let's use both `filter()` and `select()` together:"
   ]
  },
  {
   "cell_type": "code",
   "execution_count": 16,
   "id": "1a6dcd9f",
   "metadata": {
    "vscode": {
     "languageId": "r"
    }
   },
   "outputs": [
    {
     "data": {
      "text/html": [
       "<table class=\"dataframe\">\n",
       "<caption>A tibble: 4 × 2</caption>\n",
       "<thead>\n",
       "\t<tr><th scope=col>x2</th><th scope=col>x3</th></tr>\n",
       "\t<tr><th scope=col>&lt;dbl&gt;</th><th scope=col>&lt;dbl&gt;</th></tr>\n",
       "</thead>\n",
       "<tbody>\n",
       "\t<tr><td>36</td><td>216</td></tr>\n",
       "\t<tr><td>49</td><td>343</td></tr>\n",
       "\t<tr><td>64</td><td>512</td></tr>\n",
       "\t<tr><td>81</td><td>729</td></tr>\n",
       "</tbody>\n",
       "</table>\n"
      ],
      "text/latex": [
       "A tibble: 4 × 2\n",
       "\\begin{tabular}{ll}\n",
       " x2 & x3\\\\\n",
       " <dbl> & <dbl>\\\\\n",
       "\\hline\n",
       "\t 36 & 216\\\\\n",
       "\t 49 & 343\\\\\n",
       "\t 64 & 512\\\\\n",
       "\t 81 & 729\\\\\n",
       "\\end{tabular}\n"
      ],
      "text/markdown": [
       "\n",
       "A tibble: 4 × 2\n",
       "\n",
       "| x2 &lt;dbl&gt; | x3 &lt;dbl&gt; |\n",
       "|---|---|\n",
       "| 36 | 216 |\n",
       "| 49 | 343 |\n",
       "| 64 | 512 |\n",
       "| 81 | 729 |\n",
       "\n"
      ],
      "text/plain": [
       "  x2 x3 \n",
       "1 36 216\n",
       "2 49 343\n",
       "3 64 512\n",
       "4 81 729"
      ]
     },
     "metadata": {},
     "output_type": "display_data"
    }
   ],
   "source": [
    "# this series of functions will take our data frame,\n",
    "#   pass it to select, which grabs only x2 and x3,\n",
    "#   and then pipes it into filter, which keeps just \n",
    "#   rows with values of x2 between 25 and 81.\n",
    "simple.df |> select(x2, x3) |> filter(x2 > 25 & x2 <= 81)"
   ]
  },
  {
   "cell_type": "markdown",
   "id": "9e76d541",
   "metadata": {},
   "source": [
    "## Reshaping or transposing your data\n",
    "\n",
    "Imagine that these data were survey interviews, and the unit of analysis is the ***respondent-interview***. In other words, imagine we have 5 respondents, each interviewed twice, with the day recorded in `day.interviewed`. Let's create a quick identifying variable and add it to our data frame with some clever mutating:"
   ]
  },
  {
   "cell_type": "code",
   "execution_count": 17,
   "id": "1a672603",
   "metadata": {
    "vscode": {
     "languageId": "r"
    }
   },
   "outputs": [
    {
     "data": {
      "text/html": [
       "<table class=\"dataframe\">\n",
       "<caption>A tibble: 10 × 7</caption>\n",
       "<thead>\n",
       "\t<tr><th scope=col>x</th><th scope=col>z</th><th scope=col>x2</th><th scope=col>x3</th><th scope=col>day.interviewed</th><th scope=col>treat_ordered</th><th scope=col>id</th></tr>\n",
       "\t<tr><th scope=col>&lt;dbl&gt;</th><th scope=col>&lt;chr&gt;</th><th scope=col>&lt;dbl&gt;</th><th scope=col>&lt;dbl&gt;</th><th scope=col>&lt;dbl&gt;</th><th scope=col>&lt;dbl&gt;</th><th scope=col>&lt;dbl&gt;</th></tr>\n",
       "</thead>\n",
       "<tbody>\n",
       "\t<tr><td> 1</td><td>a</td><td>  1</td><td>   1</td><td>1</td><td> 1</td><td>1</td></tr>\n",
       "\t<tr><td> 2</td><td>b</td><td>  4</td><td>   8</td><td>1</td><td> 1</td><td>2</td></tr>\n",
       "\t<tr><td> 3</td><td>c</td><td>  9</td><td>  27</td><td>1</td><td> 1</td><td>3</td></tr>\n",
       "\t<tr><td> 4</td><td>d</td><td> 16</td><td>  64</td><td>1</td><td> 2</td><td>4</td></tr>\n",
       "\t<tr><td> 5</td><td>e</td><td> 25</td><td> 125</td><td>1</td><td> 2</td><td>5</td></tr>\n",
       "\t<tr><td> 6</td><td>f</td><td> 36</td><td> 216</td><td>2</td><td> 2</td><td>1</td></tr>\n",
       "\t<tr><td> 7</td><td>g</td><td> 49</td><td> 343</td><td>2</td><td> 3</td><td>2</td></tr>\n",
       "\t<tr><td> 8</td><td>i</td><td> 64</td><td> 512</td><td>2</td><td> 3</td><td>3</td></tr>\n",
       "\t<tr><td> 9</td><td>j</td><td> 81</td><td> 729</td><td>2</td><td>NA</td><td>4</td></tr>\n",
       "\t<tr><td>10</td><td>k</td><td>100</td><td>1000</td><td>2</td><td>NA</td><td>5</td></tr>\n",
       "</tbody>\n",
       "</table>\n"
      ],
      "text/latex": [
       "A tibble: 10 × 7\n",
       "\\begin{tabular}{lllllll}\n",
       " x & z & x2 & x3 & day.interviewed & treat\\_ordered & id\\\\\n",
       " <dbl> & <chr> & <dbl> & <dbl> & <dbl> & <dbl> & <dbl>\\\\\n",
       "\\hline\n",
       "\t  1 & a &   1 &    1 & 1 &  1 & 1\\\\\n",
       "\t  2 & b &   4 &    8 & 1 &  1 & 2\\\\\n",
       "\t  3 & c &   9 &   27 & 1 &  1 & 3\\\\\n",
       "\t  4 & d &  16 &   64 & 1 &  2 & 4\\\\\n",
       "\t  5 & e &  25 &  125 & 1 &  2 & 5\\\\\n",
       "\t  6 & f &  36 &  216 & 2 &  2 & 1\\\\\n",
       "\t  7 & g &  49 &  343 & 2 &  3 & 2\\\\\n",
       "\t  8 & i &  64 &  512 & 2 &  3 & 3\\\\\n",
       "\t  9 & j &  81 &  729 & 2 & NA & 4\\\\\n",
       "\t 10 & k & 100 & 1000 & 2 & NA & 5\\\\\n",
       "\\end{tabular}\n"
      ],
      "text/markdown": [
       "\n",
       "A tibble: 10 × 7\n",
       "\n",
       "| x &lt;dbl&gt; | z &lt;chr&gt; | x2 &lt;dbl&gt; | x3 &lt;dbl&gt; | day.interviewed &lt;dbl&gt; | treat_ordered &lt;dbl&gt; | id &lt;dbl&gt; |\n",
       "|---|---|---|---|---|---|---|\n",
       "|  1 | a |   1 |    1 | 1 |  1 | 1 |\n",
       "|  2 | b |   4 |    8 | 1 |  1 | 2 |\n",
       "|  3 | c |   9 |   27 | 1 |  1 | 3 |\n",
       "|  4 | d |  16 |   64 | 1 |  2 | 4 |\n",
       "|  5 | e |  25 |  125 | 1 |  2 | 5 |\n",
       "|  6 | f |  36 |  216 | 2 |  2 | 1 |\n",
       "|  7 | g |  49 |  343 | 2 |  3 | 2 |\n",
       "|  8 | i |  64 |  512 | 2 |  3 | 3 |\n",
       "|  9 | j |  81 |  729 | 2 | NA | 4 |\n",
       "| 10 | k | 100 | 1000 | 2 | NA | 5 |\n",
       "\n"
      ],
      "text/plain": [
       "   x  z x2  x3   day.interviewed treat_ordered id\n",
       "1   1 a   1    1 1                1            1 \n",
       "2   2 b   4    8 1                1            2 \n",
       "3   3 c   9   27 1                1            3 \n",
       "4   4 d  16   64 1                2            4 \n",
       "5   5 e  25  125 1                2            5 \n",
       "6   6 f  36  216 2                2            1 \n",
       "7   7 g  49  343 2                3            2 \n",
       "8   8 i  64  512 2                3            3 \n",
       "9   9 j  81  729 2               NA            4 \n",
       "10 10 k 100 1000 2               NA            5 "
      ]
     },
     "metadata": {},
     "output_type": "display_data"
    }
   ],
   "source": [
    "simple.df <- simple.df |> mutate(id = if_else(x <= 5,\n",
    "                                            true = x,\n",
    "                                            false = x - 5,\n",
    "                                            missing = NA))\n",
    "simple.df"
   ]
  },
  {
   "cell_type": "markdown",
   "id": "0ad8b3c9",
   "metadata": {},
   "source": [
    "Now, let's say we want to reorganize this data so that each row is a ***respondent***, and our data for interview session are represented in different columns. In this case, we would need to move information that is currently stored in *rows* (the additional interviews) and move them into new *columns*. Let's further assume that variables `x`, `z`, `x2`, `x3`, and `treat_ordered` are all interview-level data, that is, they vary by the interview session. So basically, let's reshape our data from having the ***respondent-interview*** as the unit of analysis to having just the ***respondent*** be the unit of analysis. We can do that with the `pivot_wider()` function, which moves data from rows into new columns. `pivot_longer()` does the reverse; it moves data coded in columns into new rows."
   ]
  },
  {
   "cell_type": "code",
   "execution_count": 18,
   "id": "45f4c0af",
   "metadata": {
    "vscode": {
     "languageId": "r"
    }
   },
   "outputs": [
    {
     "data": {
      "text/html": [
       "<table class=\"dataframe\">\n",
       "<caption>A tibble: 5 × 11</caption>\n",
       "<thead>\n",
       "\t<tr><th scope=col>id</th><th scope=col>x_1</th><th scope=col>x_2</th><th scope=col>z_1</th><th scope=col>z_2</th><th scope=col>x2_1</th><th scope=col>x2_2</th><th scope=col>x3_1</th><th scope=col>x3_2</th><th scope=col>treat_ordered_1</th><th scope=col>treat_ordered_2</th></tr>\n",
       "\t<tr><th scope=col>&lt;dbl&gt;</th><th scope=col>&lt;dbl&gt;</th><th scope=col>&lt;dbl&gt;</th><th scope=col>&lt;chr&gt;</th><th scope=col>&lt;chr&gt;</th><th scope=col>&lt;dbl&gt;</th><th scope=col>&lt;dbl&gt;</th><th scope=col>&lt;dbl&gt;</th><th scope=col>&lt;dbl&gt;</th><th scope=col>&lt;dbl&gt;</th><th scope=col>&lt;dbl&gt;</th></tr>\n",
       "</thead>\n",
       "<tbody>\n",
       "\t<tr><td>1</td><td>1</td><td> 6</td><td>a</td><td>f</td><td> 1</td><td> 36</td><td>  1</td><td> 216</td><td>1</td><td> 2</td></tr>\n",
       "\t<tr><td>2</td><td>2</td><td> 7</td><td>b</td><td>g</td><td> 4</td><td> 49</td><td>  8</td><td> 343</td><td>1</td><td> 3</td></tr>\n",
       "\t<tr><td>3</td><td>3</td><td> 8</td><td>c</td><td>i</td><td> 9</td><td> 64</td><td> 27</td><td> 512</td><td>1</td><td> 3</td></tr>\n",
       "\t<tr><td>4</td><td>4</td><td> 9</td><td>d</td><td>j</td><td>16</td><td> 81</td><td> 64</td><td> 729</td><td>2</td><td>NA</td></tr>\n",
       "\t<tr><td>5</td><td>5</td><td>10</td><td>e</td><td>k</td><td>25</td><td>100</td><td>125</td><td>1000</td><td>2</td><td>NA</td></tr>\n",
       "</tbody>\n",
       "</table>\n"
      ],
      "text/latex": [
       "A tibble: 5 × 11\n",
       "\\begin{tabular}{lllllllllll}\n",
       " id & x\\_1 & x\\_2 & z\\_1 & z\\_2 & x2\\_1 & x2\\_2 & x3\\_1 & x3\\_2 & treat\\_ordered\\_1 & treat\\_ordered\\_2\\\\\n",
       " <dbl> & <dbl> & <dbl> & <chr> & <chr> & <dbl> & <dbl> & <dbl> & <dbl> & <dbl> & <dbl>\\\\\n",
       "\\hline\n",
       "\t 1 & 1 &  6 & a & f &  1 &  36 &   1 &  216 & 1 &  2\\\\\n",
       "\t 2 & 2 &  7 & b & g &  4 &  49 &   8 &  343 & 1 &  3\\\\\n",
       "\t 3 & 3 &  8 & c & i &  9 &  64 &  27 &  512 & 1 &  3\\\\\n",
       "\t 4 & 4 &  9 & d & j & 16 &  81 &  64 &  729 & 2 & NA\\\\\n",
       "\t 5 & 5 & 10 & e & k & 25 & 100 & 125 & 1000 & 2 & NA\\\\\n",
       "\\end{tabular}\n"
      ],
      "text/markdown": [
       "\n",
       "A tibble: 5 × 11\n",
       "\n",
       "| id &lt;dbl&gt; | x_1 &lt;dbl&gt; | x_2 &lt;dbl&gt; | z_1 &lt;chr&gt; | z_2 &lt;chr&gt; | x2_1 &lt;dbl&gt; | x2_2 &lt;dbl&gt; | x3_1 &lt;dbl&gt; | x3_2 &lt;dbl&gt; | treat_ordered_1 &lt;dbl&gt; | treat_ordered_2 &lt;dbl&gt; |\n",
       "|---|---|---|---|---|---|---|---|---|---|---|\n",
       "| 1 | 1 |  6 | a | f |  1 |  36 |   1 |  216 | 1 |  2 |\n",
       "| 2 | 2 |  7 | b | g |  4 |  49 |   8 |  343 | 1 |  3 |\n",
       "| 3 | 3 |  8 | c | i |  9 |  64 |  27 |  512 | 1 |  3 |\n",
       "| 4 | 4 |  9 | d | j | 16 |  81 |  64 |  729 | 2 | NA |\n",
       "| 5 | 5 | 10 | e | k | 25 | 100 | 125 | 1000 | 2 | NA |\n",
       "\n"
      ],
      "text/plain": [
       "  id x_1 x_2 z_1 z_2 x2_1 x2_2 x3_1 x3_2 treat_ordered_1 treat_ordered_2\n",
       "1 1  1    6  a   f    1    36    1   216 1                2             \n",
       "2 2  2    7  b   g    4    49    8   343 1                3             \n",
       "3 3  3    8  c   i    9    64   27   512 1                3             \n",
       "4 4  4    9  d   j   16    81   64   729 2               NA             \n",
       "5 5  5   10  e   k   25   100  125  1000 2               NA             "
      ]
     },
     "metadata": {},
     "output_type": "display_data"
    }
   ],
   "source": [
    "simple.df.wide <- simple.df |> pivot_wider(id_cols = id, names_from = day.interviewed, values_from = c(x, z, x2, x3, treat_ordered))\n",
    "\n",
    "simple.df.wide"
   ]
  },
  {
   "cell_type": "markdown",
   "id": "be57eeff",
   "metadata": {},
   "source": [
    "Pretty neat, huh? Now the interview session (the values from `day.interviewed`), are moved into the suffixes of the variable names in the header. So we have two columns of data for `x` - one representing the first interview and another representing the second. "
   ]
  },
  {
   "cell_type": "markdown",
   "id": "147b59b0",
   "metadata": {},
   "source": [
    "How would move data like this back into a *long* format, with a ***respondent-interview*** unit of analysis? It's trickier to get the code right, but still possible to do. "
   ]
  },
  {
   "cell_type": "code",
   "execution_count": 19,
   "id": "409a9a31",
   "metadata": {
    "vscode": {
     "languageId": "r"
    }
   },
   "outputs": [
    {
     "data": {
      "text/html": [
       "<table class=\"dataframe\">\n",
       "<caption>A tibble: 10 × 7</caption>\n",
       "<thead>\n",
       "\t<tr><th scope=col>id</th><th scope=col>day.interviewed</th><th scope=col>x</th><th scope=col>z</th><th scope=col>x2</th><th scope=col>x3</th><th scope=col>treat_ordered</th></tr>\n",
       "\t<tr><th scope=col>&lt;dbl&gt;</th><th scope=col>&lt;chr&gt;</th><th scope=col>&lt;dbl&gt;</th><th scope=col>&lt;chr&gt;</th><th scope=col>&lt;dbl&gt;</th><th scope=col>&lt;dbl&gt;</th><th scope=col>&lt;dbl&gt;</th></tr>\n",
       "</thead>\n",
       "<tbody>\n",
       "\t<tr><td>1</td><td>1</td><td> 1</td><td>a</td><td>  1</td><td>   1</td><td> 1</td></tr>\n",
       "\t<tr><td>1</td><td>2</td><td> 6</td><td>f</td><td> 36</td><td> 216</td><td> 2</td></tr>\n",
       "\t<tr><td>2</td><td>1</td><td> 2</td><td>b</td><td>  4</td><td>   8</td><td> 1</td></tr>\n",
       "\t<tr><td>2</td><td>2</td><td> 7</td><td>g</td><td> 49</td><td> 343</td><td> 3</td></tr>\n",
       "\t<tr><td>3</td><td>1</td><td> 3</td><td>c</td><td>  9</td><td>  27</td><td> 1</td></tr>\n",
       "\t<tr><td>3</td><td>2</td><td> 8</td><td>i</td><td> 64</td><td> 512</td><td> 3</td></tr>\n",
       "\t<tr><td>4</td><td>1</td><td> 4</td><td>d</td><td> 16</td><td>  64</td><td> 2</td></tr>\n",
       "\t<tr><td>4</td><td>2</td><td> 9</td><td>j</td><td> 81</td><td> 729</td><td>NA</td></tr>\n",
       "\t<tr><td>5</td><td>1</td><td> 5</td><td>e</td><td> 25</td><td> 125</td><td> 2</td></tr>\n",
       "\t<tr><td>5</td><td>2</td><td>10</td><td>k</td><td>100</td><td>1000</td><td>NA</td></tr>\n",
       "</tbody>\n",
       "</table>\n"
      ],
      "text/latex": [
       "A tibble: 10 × 7\n",
       "\\begin{tabular}{lllllll}\n",
       " id & day.interviewed & x & z & x2 & x3 & treat\\_ordered\\\\\n",
       " <dbl> & <chr> & <dbl> & <chr> & <dbl> & <dbl> & <dbl>\\\\\n",
       "\\hline\n",
       "\t 1 & 1 &  1 & a &   1 &    1 &  1\\\\\n",
       "\t 1 & 2 &  6 & f &  36 &  216 &  2\\\\\n",
       "\t 2 & 1 &  2 & b &   4 &    8 &  1\\\\\n",
       "\t 2 & 2 &  7 & g &  49 &  343 &  3\\\\\n",
       "\t 3 & 1 &  3 & c &   9 &   27 &  1\\\\\n",
       "\t 3 & 2 &  8 & i &  64 &  512 &  3\\\\\n",
       "\t 4 & 1 &  4 & d &  16 &   64 &  2\\\\\n",
       "\t 4 & 2 &  9 & j &  81 &  729 & NA\\\\\n",
       "\t 5 & 1 &  5 & e &  25 &  125 &  2\\\\\n",
       "\t 5 & 2 & 10 & k & 100 & 1000 & NA\\\\\n",
       "\\end{tabular}\n"
      ],
      "text/markdown": [
       "\n",
       "A tibble: 10 × 7\n",
       "\n",
       "| id &lt;dbl&gt; | day.interviewed &lt;chr&gt; | x &lt;dbl&gt; | z &lt;chr&gt; | x2 &lt;dbl&gt; | x3 &lt;dbl&gt; | treat_ordered &lt;dbl&gt; |\n",
       "|---|---|---|---|---|---|---|\n",
       "| 1 | 1 |  1 | a |   1 |    1 |  1 |\n",
       "| 1 | 2 |  6 | f |  36 |  216 |  2 |\n",
       "| 2 | 1 |  2 | b |   4 |    8 |  1 |\n",
       "| 2 | 2 |  7 | g |  49 |  343 |  3 |\n",
       "| 3 | 1 |  3 | c |   9 |   27 |  1 |\n",
       "| 3 | 2 |  8 | i |  64 |  512 |  3 |\n",
       "| 4 | 1 |  4 | d |  16 |   64 |  2 |\n",
       "| 4 | 2 |  9 | j |  81 |  729 | NA |\n",
       "| 5 | 1 |  5 | e |  25 |  125 |  2 |\n",
       "| 5 | 2 | 10 | k | 100 | 1000 | NA |\n",
       "\n"
      ],
      "text/plain": [
       "   id day.interviewed x  z x2  x3   treat_ordered\n",
       "1  1  1                1 a   1    1  1           \n",
       "2  1  2                6 f  36  216  2           \n",
       "3  2  1                2 b   4    8  1           \n",
       "4  2  2                7 g  49  343  3           \n",
       "5  3  1                3 c   9   27  1           \n",
       "6  3  2                8 i  64  512  3           \n",
       "7  4  1                4 d  16   64  2           \n",
       "8  4  2                9 j  81  729 NA           \n",
       "9  5  1                5 e  25  125  2           \n",
       "10 5  2               10 k 100 1000 NA           "
      ]
     },
     "metadata": {},
     "output_type": "display_data"
    }
   ],
   "source": [
    "# ok, this one is really tough! Here, we need to tell R which data should be shifting\n",
    "#   to rows. We use the `x_1:treat_ordered_2` because it will include those two\n",
    "#   and the columns in between. We leave off `id` because it will be expanded when we\n",
    "#   switch back to respondent-interview units. The second argument, names_to, says that\n",
    "#   we will be left with the value of our variable names and a new variable called \n",
    "#   day.interviewed. The last argument, names_pattern, describes how our variable names\n",
    "#   are structured, with some text (the (.*), an underscore (_), and then other text (.*). \n",
    "#   Note that the function is smart enough to recognize the pattern of our 1s and 2s, which\n",
    "#   are placed back into day.interviewed and removed from the variable names.)\n",
    "\n",
    "simple.df.longer <- simple.df.wide |>\n",
    "                        pivot_longer(x_1:treat_ordered_2, \n",
    "                                    names_to = c(\".value\", \"day.interviewed\"), \n",
    "                                    names_pattern = \"(.*)_(.*)\")\n",
    "simple.df.longer"
   ]
  },
  {
   "cell_type": "markdown",
   "id": "e7b2537c",
   "metadata": {},
   "source": [
    "Transposing is really quite difficult, and I typically need read the supporting documentation to figure out exactly how to do it. That's ok! You can always look up information about functions using the `help()` function in the console. Go ahead and try it! At the end of most help files will be examples. They aren't *always* that useful for new users, but they're at least a place to start. "
   ]
  },
  {
   "cell_type": "code",
   "execution_count": 20,
   "id": "f20e3451",
   "metadata": {
    "vscode": {
     "languageId": "r"
    }
   },
   "outputs": [
    {
     "name": "stdout",
     "output_type": "stream",
     "text": [
      "pivot_longer               package:tidyr               R Documentation\n",
      "\n",
      "_\bP_\bi_\bv_\bo_\bt _\bd_\ba_\bt_\ba _\bf_\br_\bo_\bm _\bw_\bi_\bd_\be _\bt_\bo _\bl_\bo_\bn_\bg\n",
      "\n",
      "_\bD_\be_\bs_\bc_\br_\bi_\bp_\bt_\bi_\bo_\bn:\n",
      "\n",
      "     ‘pivot_longer()’ \"lengthens\" data, increasing the number of rows\n",
      "     and decreasing the number of columns. The inverse transformation\n",
      "     is ‘pivot_wider()’\n",
      "\n",
      "     Learn more in ‘vignette(\"pivot\")’.\n",
      "\n",
      "_\bU_\bs_\ba_\bg_\be:\n",
      "\n",
      "     pivot_longer(\n",
      "       data,\n",
      "       cols,\n",
      "       ...,\n",
      "       cols_vary = \"fastest\",\n",
      "       names_to = \"name\",\n",
      "       names_prefix = NULL,\n",
      "       names_sep = NULL,\n",
      "       names_pattern = NULL,\n",
      "       names_ptypes = NULL,\n",
      "       names_transform = NULL,\n",
      "       names_repair = \"check_unique\",\n",
      "       values_to = \"value\",\n",
      "       values_drop_na = FALSE,\n",
      "       values_ptypes = NULL,\n",
      "       values_transform = NULL\n",
      "     )\n",
      "     \n",
      "_\bA_\br_\bg_\bu_\bm_\be_\bn_\bt_\bs:\n",
      "\n",
      "    data: A data frame to pivot.\n",
      "\n",
      "    cols: <‘tidy-select’> Columns to pivot into longer format.\n",
      "\n",
      "     ...: Additional arguments passed on to methods.\n",
      "\n",
      "cols_vary: When pivoting ‘cols’ into longer format, how should the\n",
      "          output rows be arranged relative to their original row\n",
      "          number?\n",
      "\n",
      "            • ‘\"fastest\"’, the default, keeps individual rows from\n",
      "              ‘cols’ close together in the output. This often produces\n",
      "              intuitively ordered output when you have at least one key\n",
      "              column from ‘data’ that is not involved in the pivoting\n",
      "              process.\n",
      "\n",
      "            • ‘\"slowest\"’ keeps individual columns from ‘cols’ close\n",
      "              together in the output. This often produces intuitively\n",
      "              ordered output when you utilize all of the columns from\n",
      "              ‘data’ in the pivoting process.\n",
      "\n",
      "names_to: A character vector specifying the new column or columns to\n",
      "          create from the information stored in the column names of\n",
      "          ‘data’ specified by ‘cols’.\n",
      "\n",
      "            • If length 0, or if ‘NULL’ is supplied, no columns will be\n",
      "              created.\n",
      "\n",
      "            • If length 1, a single column will be created which will\n",
      "              contain the column names specified by ‘cols’.\n",
      "\n",
      "            • If length >1, multiple columns will be created. In this\n",
      "              case, one of ‘names_sep’ or ‘names_pattern’ must be\n",
      "              supplied to specify how the column names should be split.\n",
      "              There are also two additional character values you can\n",
      "              take advantage of:\n",
      "\n",
      "                • ‘NA’ will discard the corresponding component of the\n",
      "                  column name.\n",
      "\n",
      "                • ‘\".value\"’ indicates that the corresponding component\n",
      "                  of the column name defines the name of the output\n",
      "                  column containing the cell values, overriding\n",
      "                  ‘values_to’ entirely.\n",
      "\n",
      "names_prefix: A regular expression used to remove matching text from\n",
      "          the start of each variable name.\n",
      "\n",
      "names_sep, names_pattern: If ‘names_to’ contains multiple values, these\n",
      "          arguments control how the column name is broken up.\n",
      "\n",
      "          ‘names_sep’ takes the same specification as ‘separate()’, and\n",
      "          can either be a numeric vector (specifying positions to break\n",
      "          on), or a single string (specifying a regular expression to\n",
      "          split on).\n",
      "\n",
      "          ‘names_pattern’ takes the same specification as ‘extract()’,\n",
      "          a regular expression containing matching groups (()).\n",
      "\n",
      "          If these arguments do not give you enough control, use\n",
      "          ‘pivot_longer_spec()’ to create a spec object and process\n",
      "          manually as needed.\n",
      "\n",
      "names_ptypes, values_ptypes: Optionally, a list of column\n",
      "          name-prototype pairs. Alternatively, a single empty prototype\n",
      "          can be supplied, which will be applied to all columns. A\n",
      "          prototype (or ptype for short) is a zero-length vector (like\n",
      "          ‘integer()’ or ‘numeric()’) that defines the type, class, and\n",
      "          attributes of a vector. Use these arguments if you want to\n",
      "          confirm that the created columns are the types that you\n",
      "          expect. Note that if you want to change (instead of confirm)\n",
      "          the types of specific columns, you should use\n",
      "          ‘names_transform’ or ‘values_transform’ instead.\n",
      "\n",
      "names_transform, values_transform: Optionally, a list of column\n",
      "          name-function pairs. Alternatively, a single function can be\n",
      "          supplied, which will be applied to all columns. Use these\n",
      "          arguments if you need to change the types of specific\n",
      "          columns. For example, ‘names_transform = list(week =\n",
      "          as.integer)’ would convert a character variable called ‘week’\n",
      "          to an integer.\n",
      "\n",
      "          If not specified, the type of the columns generated from\n",
      "          ‘names_to’ will be character, and the type of the variables\n",
      "          generated from ‘values_to’ will be the common type of the\n",
      "          input columns used to generate them.\n",
      "\n",
      "names_repair: What happens if the output has invalid column names? The\n",
      "          default, ‘\"check_unique\"’ is to error if the columns are\n",
      "          duplicated. Use ‘\"minimal\"’ to allow duplicates in the\n",
      "          output, or ‘\"unique\"’ to de-duplicated by adding numeric\n",
      "          suffixes. See ‘vctrs::vec_as_names()’ for more options.\n",
      "\n",
      "values_to: A string specifying the name of the column to create from\n",
      "          the data stored in cell values. If ‘names_to’ is a character\n",
      "          containing the special ‘.value’ sentinel, this value will be\n",
      "          ignored, and the name of the value column will be derived\n",
      "          from part of the existing column names.\n",
      "\n",
      "values_drop_na: If ‘TRUE’, will drop rows that contain only ‘NA’s in\n",
      "          the ‘value_to’ column. This effectively converts explicit\n",
      "          missing values to implicit missing values, and should\n",
      "          generally be used only when missing values in ‘data’ were\n",
      "          created by its structure.\n",
      "\n",
      "_\bD_\be_\bt_\ba_\bi_\bl_\bs:\n",
      "\n",
      "     ‘pivot_longer()’ is an updated approach to ‘gather()’, designed to\n",
      "     be both simpler to use and to handle more use cases. We recommend\n",
      "     you use ‘pivot_longer()’ for new code; ‘gather()’ isn't going away\n",
      "     but is no longer under active development.\n",
      "\n",
      "_\bE_\bx_\ba_\bm_\bp_\bl_\be_\bs:\n",
      "\n",
      "     # See vignette(\"pivot\") for examples and explanation\n",
      "     \n",
      "     # Simplest case where column names are character data\n",
      "     relig_income\n",
      "     relig_income %>%\n",
      "       pivot_longer(!religion, names_to = \"income\", values_to = \"count\")\n",
      "     \n",
      "     # Slightly more complex case where columns have common prefix,\n",
      "     # and missing missings are structural so should be dropped.\n",
      "     billboard\n",
      "     billboard %>%\n",
      "       pivot_longer(\n",
      "         cols = starts_with(\"wk\"),\n",
      "         names_to = \"week\",\n",
      "         names_prefix = \"wk\",\n",
      "         values_to = \"rank\",\n",
      "         values_drop_na = TRUE\n",
      "       )\n",
      "     \n",
      "     # Multiple variables stored in column names\n",
      "     who %>% pivot_longer(\n",
      "       cols = new_sp_m014:newrel_f65,\n",
      "       names_to = c(\"diagnosis\", \"gender\", \"age\"),\n",
      "       names_pattern = \"new_?(.*)_(.)(.*)\",\n",
      "       values_to = \"count\"\n",
      "     )\n",
      "     \n",
      "     # Multiple observations per row. Since all columns are used in the pivoting\n",
      "     # process, we'll use `cols_vary` to keep values from the original columns\n",
      "     # close together in the output.\n",
      "     anscombe\n",
      "     anscombe %>%\n",
      "       pivot_longer(\n",
      "         everything(),\n",
      "         cols_vary = \"slowest\",\n",
      "         names_to = c(\".value\", \"set\"),\n",
      "         names_pattern = \"(.)(.)\"\n",
      "       )\n",
      "     "
     ]
    }
   ],
   "source": [
    "help(pivot_longer)"
   ]
  }
 ],
 "metadata": {
  "kernelspec": {
   "display_name": "R",
   "language": "R",
   "name": "ir"
  },
  "language_info": {
   "codemirror_mode": "r",
   "file_extension": ".r",
   "mimetype": "text/x-r-source",
   "name": "R",
   "pygments_lexer": "r",
   "version": "4.5.1"
  }
 },
 "nbformat": 4,
 "nbformat_minor": 5
}
