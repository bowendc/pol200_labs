{
 "cells": [
  {
   "cell_type": "markdown",
   "id": "2af30d8b",
   "metadata": {},
   "source": [
    "# Introductory Data Management in R using base R and the `tidyverse`\n",
    "\n",
    "## Taking a look around in R and RStudio\n",
    "\n",
    "Notice the various windows. \n",
    "\n",
    "1. The Console allows you to enter commands and view results\n",
    "2. The Environment window will show you the various objects R is keeping track of (vectors, datasets, lists, etc.)\n",
    "3. The bottom right window will show you files, figures/graphs, help files, and more. \n",
    "4. If you create/open a script, it will appear in the top-right by default. I encourage using an R project and R script for nearly all work. \n",
    "\n",
    "## Installing and loading packages\n",
    "\n",
    "R is open-source, and, has a number of built-in functions.^[This is called base R.] But there are many, many user-generated packages that improve R's functionality. We'll be using these packages all the time, especially a group of packages called [the tidyverse](https://www.tidyverse.org/packages/). \n",
    "\n",
    "You only need to install the package once and then you're good to go (until it needs updating). But you also need to load the package in every R session if you want to use those commands. Alternatively, you can use the package name, followed by two colons, followed by the function to access functions from packages you have already installed on your computer but have not directly loaded in the current session. Let's see how this works using the `pacman` package. Pacman is a useful tool: it easily allows you to install, load, and update packages you want to use in your session, but will only install packages if they aren't already installed."
   ]
  },
  {
   "cell_type": "code",
   "execution_count": null,
   "id": "1fc9f34c",
   "metadata": {
    "vscode": {
     "languageId": "r"
    }
   },
   "outputs": [],
   "source": [
    "# Install the required packages if not already installed \n",
    "# By the way, the hashtag/pound/octothorpe symbol will comment out a line in your script\n",
    "\n",
    "install.packages('pacman')\n",
    "library(pacman)\n",
    "\n",
    "# the pacman package is a useful way to load and install packages. It \n",
    "# will check to see if you have already installed the package. If so,\n",
    "# it will load it. If not, it will download and install and THEN load the\n",
    "# package. So it simplifies the process for you.\n",
    "\n",
    "# p_load() is the name of the function from the pacman package. \n",
    "\n",
    "# alternatively, if you have pacman installed, you can use the function\n",
    "# without loading the library by including the package name and :: like this\n",
    "\n",
    "\n",
    "# now let's install/update/load the tidyverse package\n",
    "pacman::p_load(tidyverse)\n"
   ]
  },
  {
   "cell_type": "markdown",
   "id": "e104d828",
   "metadata": {},
   "source": [
    "## Some basics\n",
    "\n",
    "R can handle a great diversity of *objects* including lists, variables, names, vectors, data frames, scalars, and plots. Let's create a vector of data using the `concatenate` or `combine` function, which is the workforce for how R handles lists of pretty much any type. We can assign this list of values to an object with the assignment operator `<-`. You can read that as \"gets\". "
   ]
  },
  {
   "cell_type": "code",
   "execution_count": null,
   "id": "ea0d88d9",
   "metadata": {
    "vscode": {
     "languageId": "r"
    }
   },
   "outputs": [],
   "source": [
    "# the function below reads: \"x gets the vector of values 1 though 10\"\n",
    "x <- c(1,2,3,4,5,6,7,8,9,10)\n",
    "\n",
    "# we can display our vector by typing the name of object or by using the print() function\n",
    "x"
   ]
  },
  {
   "cell_type": "markdown",
   "id": "c2014ad8",
   "metadata": {},
   "source": [
    "We can also create text data (called *character* data or *string* data) in the same way:"
   ]
  },
  {
   "cell_type": "code",
   "execution_count": null,
   "id": "8d463716",
   "metadata": {
    "vscode": {
     "languageId": "r"
    }
   },
   "outputs": [],
   "source": [
    "# notice the use of quotation marks around our text data\n",
    "z <- c(\"a\", \"b\", \"c\", \"d\", \"e\", \"f\", \"g\", \"i\", \"j\", \"k\")\n",
    "z"
   ]
  },
  {
   "cell_type": "markdown",
   "id": "c7358758",
   "metadata": {},
   "source": [
    "R should recognize the format of these data. We can use the `class` function to see how R has stored our inputs."
   ]
  },
  {
   "cell_type": "code",
   "execution_count": null,
   "id": "1cb09add",
   "metadata": {
    "vscode": {
     "languageId": "r"
    }
   },
   "outputs": [],
   "source": [
    "class(x)\n",
    "class(z)"
   ]
  },
  {
   "cell_type": "markdown",
   "id": "c5bec3ea",
   "metadata": {},
   "source": [
    "Good - R appropriately sees `x` as a numeric **vector** (a column of data) and `z` as a character vector.\n",
    "\n",
    "We can also change these formats. Sometimes changing them will lead to data errors (like by forcing text data into a numeric vector). Numeric data can always be stored as characters, although then R will not be able to use the vector for numerical calculations. "
   ]
  },
  {
   "cell_type": "code",
   "execution_count": null,
   "id": "bb504d72",
   "metadata": {
    "vscode": {
     "languageId": "r"
    }
   },
   "outputs": [],
   "source": [
    "# convert vector x from numeric to character\n",
    "x <- as.character(x)\n",
    "class(x)\n",
    "\n",
    "# convert back to numeric:\n",
    "x <- as.numeric(x)\n",
    "class(x)"
   ]
  },
  {
   "cell_type": "markdown",
   "id": "018f1943",
   "metadata": {},
   "source": [
    "Right now, our vectors `x` and `z` exist as separate objects. We can check what objects R sees in our current environment with the `ls` (list objects) function:"
   ]
  },
  {
   "cell_type": "code",
   "execution_count": null,
   "id": "3435c5e7",
   "metadata": {
    "vscode": {
     "languageId": "r"
    }
   },
   "outputs": [],
   "source": [
    "ls()"
   ]
  },
  {
   "cell_type": "markdown",
   "id": "173930e1",
   "metadata": {},
   "source": [
    "However, we often interact with data in datasets, which R refers to as *data frames*. We can combine our two, 10-row vectors together into a data frame assigned as a named object:"
   ]
  },
  {
   "cell_type": "code",
   "execution_count": null,
   "id": "19210897",
   "metadata": {
    "vscode": {
     "languageId": "r"
    }
   },
   "outputs": [],
   "source": [
    "# this function will stitch together one column of data with another\n",
    "# so, 1 goes with a, 2 goes with b, etc\n",
    "\n",
    "simple.df <- data.frame(x, z)\n"
   ]
  },
  {
   "cell_type": "markdown",
   "id": "130db1b3",
   "metadata": {},
   "source": [
    "A handful of simple functions are useful for examining data frames:\n",
    "\n",
    "- `head()`: shows the header and first several rows of the data frame. \n",
    "- `names()`: shows the names of each column in your data frame.\n",
    "- `table()`: shows the values of columns of data, ordered by values."
   ]
  },
  {
   "cell_type": "code",
   "execution_count": null,
   "id": "a32c5c2e",
   "metadata": {
    "vscode": {
     "languageId": "r"
    }
   },
   "outputs": [],
   "source": [
    "# by default, head() shows the column names and \n",
    "#   the first six rows\n",
    "head(simple.df)\n",
    "\n",
    "# we can add rows to our glimpse of data by using the `n =` argument:\n",
    "head(simple.df, n = 10)"
   ]
  },
  {
   "cell_type": "code",
   "execution_count": null,
   "id": "43b6d636",
   "metadata": {
    "vscode": {
     "languageId": "r"
    }
   },
   "outputs": [],
   "source": [
    "# names() is an easy function to get all of our column names \n",
    "#   we could then store this as a list if we wanted to or plug\n",
    "#   into some other function\n",
    "names(simple.df)"
   ]
  },
  {
   "cell_type": "markdown",
   "id": "53eed1b6",
   "metadata": {},
   "source": [
    "When performing analyses on a data frame, we can access column data using the `df$column.name` format. The `table()` function below will present all values of a column of data and the number of rows with that value."
   ]
  },
  {
   "cell_type": "code",
   "execution_count": null,
   "id": "af822d27",
   "metadata": {
    "vscode": {
     "languageId": "r"
    }
   },
   "outputs": [],
   "source": [
    "# show all unique value of x and the number of rows with each value\n",
    "table(simple.df$x)\n",
    "\n",
    "# now do z\n",
    "table(simple.df$z)\n",
    "\n",
    "# we can present all combinations of x and z and the counts for each\n",
    "#   combined group of values\n",
    "table(simple.df$x, simple.df$z)\n"
   ]
  },
  {
   "cell_type": "markdown",
   "id": "bf2c197a",
   "metadata": {},
   "source": [
    "## The tidyverse \n",
    "\n",
    "The [`tidyverse`](https://www.tidyverse.org/packages/) is a suite of very popular packages that are useful for data management, data transformation, and graphing in R. By loading `tidyverse`, you are also loading other very useful functions from some other packages for reading and importing data. \n",
    "\n",
    "The `tidyverse` uses a particular kind of data frame storage, known as a `tibble`. The `tidyverse` is very helpful when using data as entire datasets. We can easily filter out observations, aggregate data, and recode variables using `tidyverse` functions. "
   ]
  },
  {
   "cell_type": "code",
   "execution_count": null,
   "id": "38ba8e63",
   "metadata": {
    "vscode": {
     "languageId": "r"
    }
   },
   "outputs": [],
   "source": [
    "# we can convert our data frame to the tibble format easily:\n",
    "simple.df <- tibble(simple.df)"
   ]
  },
  {
   "cell_type": "markdown",
   "id": "bfe60cdf",
   "metadata": {},
   "source": [
    "## Creating and recoding variables\n",
    "\n",
    "R functions are vectorized; that is, they can take a column of data as an input and perform the same procedure on each cell in the column. So we can, say, create a new column of data that performs mathematical operations on existing columns easily. Here are two ways to accomplish this: "
   ]
  },
  {
   "cell_type": "code",
   "execution_count": null,
   "id": "291b4567",
   "metadata": {
    "vscode": {
     "languageId": "r"
    }
   },
   "outputs": [],
   "source": [
    "# base R:\n",
    "simple.df$x2 <- simple.df$x^2\n",
    "\n",
    "# in tidyverse (technically dplyr package)\n",
    "simple.df <- simple.df |> mutate(x3 = x^3)\n",
    "\n",
    "# let's check our work:\n",
    "simple.df"
   ]
  },
  {
   "cell_type": "markdown",
   "id": "f4c404bc",
   "metadata": {},
   "source": [
    "We probably need to interpret that `dplyr` line of code:\n",
    "\n",
    "`simple.df <- simple.df |> mutate(x3 = x^3)`\n",
    "\n",
    "The `|>` is known as the \"pipe\"; it takes the output from what is to its left and \"pipes\" it into the function on the right. So in this case, we take our data frame (`simple.df`) and pipe it into the `mutate` function, which is the `tidyverse` function for changing and transforming columns of data in a data frame. Here, we create a new column or variable named `x3` and set it equal to an existing column `x` to the third power. \n",
    "\n",
    "If we omitted the `simple.df <-` part at the beginning of the function, R would perform the requested action and print it in the console, but it would leave `simple.df` unchanged in our environment. Here we assign our new data frame over our existing one. Be careful when you do this - there are many instances in which it would be better to assign your new data to a different data frame rather than writing over the existing one. \n",
    "\n",
    "We can do more complex recodes as well. In the code below, we use `if_else()` and `case_when()` functions inside of `mutate()` to create a binary variable and an ordinal variable, respectively. Notice that our two new columns of data are both inside the same `mutate()` function call, just separated by a comma. This way you can string together many variable recodes in the same section of code. "
   ]
  },
  {
   "cell_type": "code",
   "execution_count": null,
   "id": "6121a8c9",
   "metadata": {
    "vscode": {
     "languageId": "r"
    }
   },
   "outputs": [],
   "source": [
    "# if_else() allows us to use conditional statements. First argument is \n",
    "#   the condition. In this case, x is less than or equal to 5. \n",
    "#   Second argument is what to code the rows if the condition is met.\n",
    "#   In this case, we'll give it a 1. Third argument is \n",
    "#   the value for observations where the condition isn't met, here a 2.\n",
    "#   Last argument is what to do with missing data. Here, we give the \n",
    "#   standard NA code for missing data in R. So our new column will be named\n",
    "#   day.interviewed and will receive the results of the if_else() statement. \n",
    "\n",
    "# case_when is similar. It takes, on the left-hand side, conditions (here values\n",
    "#   of our string or character variable z) and assigns them codes in the new\n",
    "#   colum. The tilde (~) symbol represents assignment. So rows where z is a, b, or c\n",
    "#   is assigned a value of 1 in the new column.\n",
    "#   Note the last statement, TRUE ~ NA. TRUE here captures all other values not\n",
    "#   identified in the previous conditions and codes them as missing data (NA).\n",
    "\n",
    "# In these conditional statements, you can use == (equals), < (less than), > (greater than),\n",
    "#   <= (less than or equal to), >= (greater than or equal to), and != (does not equal), \n",
    "#   among others. You can also use Boolean operators like & (and) and | (or) to connect \n",
    "#   multiple conditions together in the same statement. \n",
    "\n",
    "simple.df <- simple.df |> \n",
    "                mutate(day.interviewed = if_else(x <= 5,\n",
    "                                              true = 1,\n",
    "                                              false = 2,\n",
    "                                              missing = NA),\n",
    "                       treat_ordered = case_when(\n",
    "                                            z == \"a\" | z == \"b\" | z == \"c\" ~ 1,\n",
    "                                            z == \"d\" | z == \"e\" | z == \"f\" ~ 2,\n",
    "                                            z == \"g\" | z == \"h\" | z == \"i\" ~ 3,\n",
    "                                            TRUE ~ NA)\n",
    "                      )\n",
    "\n",
    "simple.df"
   ]
  },
  {
   "cell_type": "markdown",
   "id": "04bdc9e3",
   "metadata": {},
   "source": [
    "## Selecting specific columns and rows of your data\n",
    "\n",
    "You can easily limit your data frame to particular rows or columns - we might do this if we want to run an analysis on just a subset of observations or make a table using a subset of variables. To accomplish this, we can use `dplyr` functions bundled in the `tidyverse`.\n",
    "\n",
    "#### `filter()`\n",
    "\n",
    "The `filter()` function allows you to select specific rows (or observations) in your data. Let's go over some examples:"
   ]
  },
  {
   "cell_type": "code",
   "execution_count": null,
   "id": "f4fd4364",
   "metadata": {
    "vscode": {
     "languageId": "r"
    }
   },
   "outputs": [],
   "source": [
    "# keep rows where x is less than 6\n",
    "simple.df |> filter(x < 6)\n",
    "\n",
    "# keep rows where x equals 6 (note the use of two equal signs\n",
    "#   to signal an equality)\n",
    "simple.df |> filter(x == 6)\n",
    "\n",
    "# keep rows where x is less than or equal to 6\n",
    "simple.df |> filter(x <= 6)\n",
    "\n",
    "# keep rows where x is greater than 4 AND less than 8\n",
    "simple.df |> filter(x > 4 & x < 8)\n",
    "\n",
    "# keep rows where z equals d OR k. Note that string data \n",
    "#   must be included inside of quotes\n",
    "simple.df |> filter(z == \"d\" | z == \"k\")"
   ]
  },
  {
   "cell_type": "markdown",
   "id": "bd62936b",
   "metadata": {},
   "source": [
    "#### `select()`\n",
    "\n",
    "The `select()` function allows you to choose columns. "
   ]
  },
  {
   "cell_type": "code",
   "execution_count": null,
   "id": "1e37aa11",
   "metadata": {
    "vscode": {
     "languageId": "r"
    }
   },
   "outputs": [],
   "source": [
    "# select() takes as arguments the names of your columns. No quotes needed.\n",
    "simple.df |> select(x, z)\n",
    "\n",
    "# we could also select \"not\" something, using the ! symbol\n",
    "#   although we need to include our list of names inside of \n",
    "#   c() for this to work.\n",
    "simple.df |> select(!c(x, z))"
   ]
  },
  {
   "cell_type": "markdown",
   "id": "962370ef",
   "metadata": {},
   "source": [
    "The pipe is very powerful, and it lets us connect together functions in an efficient way. Let's use both `filter()` and `select()` together:"
   ]
  },
  {
   "cell_type": "code",
   "execution_count": null,
   "id": "1a6dcd9f",
   "metadata": {
    "vscode": {
     "languageId": "r"
    }
   },
   "outputs": [],
   "source": [
    "# this series of functions will take our data frame,\n",
    "#   pass it to select, which grabs only x2 and x3,\n",
    "#   and then pipes it into filter, which keeps just \n",
    "#   rows with values of x2 between 25 and 81.\n",
    "simple.df |> select(x2, x3) |> filter(x2 > 25 & x2 <= 81)"
   ]
  },
  {
   "cell_type": "markdown",
   "id": "9e76d541",
   "metadata": {},
   "source": [
    "## Reshaping or transposing your data\n",
    "\n",
    "Imagine that these data were survey interviews, and the unit of analysis is the ***respondent-interview***. In other words, imagine we have 5 respondents, each interviewed twice, with the day recorded in `day.interviewed`. Let's create a quick identifying variable and add it to our data frame with some clever mutating:"
   ]
  },
  {
   "cell_type": "code",
   "execution_count": null,
   "id": "1a672603",
   "metadata": {
    "vscode": {
     "languageId": "r"
    }
   },
   "outputs": [],
   "source": [
    "simple.df <- simple.df |> mutate(id = if_else(x <= 5,\n",
    "                                            true = x,\n",
    "                                            false = x - 5,\n",
    "                                            missing = NA))\n",
    "simple.df"
   ]
  },
  {
   "cell_type": "markdown",
   "id": "0ad8b3c9",
   "metadata": {},
   "source": [
    "Now, let's say we want to reorganize this data so that each row is a ***respondent***, and our data for interview session are represented in different columns. In this case, we would need to move information that is currently stored in *rows* (the additional interviews) and move them into new *columns*. Let's further assume that variables `x`, `z`, `x2`, `x3`, and `treat_ordered` are all interview-level data, that is, they vary by the interview session. So basically, let's reshape our data from having the ***respondent-interview*** as the unit of analysis to having just the ***respondent*** be the unit of analysis. We can do that with the `pivot_wider()` function, which moves data from rows into new columns. `pivot_longer()` does the reverse; it moves data coded in columns into new rows."
   ]
  },
  {
   "cell_type": "code",
   "execution_count": null,
   "id": "45f4c0af",
   "metadata": {
    "vscode": {
     "languageId": "r"
    }
   },
   "outputs": [],
   "source": [
    "simple.df.wide <- simple.df |> pivot_wider(id_cols = id, names_from = day.interviewed, values_from = c(x, z, x2, x3, treat_ordered))\n",
    "\n",
    "simple.df.wide"
   ]
  },
  {
   "cell_type": "markdown",
   "id": "be57eeff",
   "metadata": {},
   "source": [
    "Pretty neat, huh? Now the interview session (the values from `day.interviewed`), are moved into the suffixes of the variable names in the header. So we have two columns of data for `x` - one representing the first interview and another representing the second. "
   ]
  },
  {
   "cell_type": "markdown",
   "id": "147b59b0",
   "metadata": {},
   "source": [
    "How would move data like this back into a *long* format, with a ***respondent-interview*** unit of analysis? It's trickier to get the code right, but still possible to do. "
   ]
  },
  {
   "cell_type": "code",
   "execution_count": null,
   "id": "409a9a31",
   "metadata": {
    "vscode": {
     "languageId": "r"
    }
   },
   "outputs": [],
   "source": [
    "# ok, this one is really tough! Here, we need to tell R which data should be shifting\n",
    "#   to rows. We use the `x_1:treat_ordered_2` because it will include those two\n",
    "#   and the columns in between. We leave off `id` because it will be expanded when we\n",
    "#   switch back to respondent-interview units. The second argument, names_to, says that\n",
    "#   we will be left with the value of our variable names and a new variable called \n",
    "#   day.interviewed. The last argument, names_pattern, describes how our variable names\n",
    "#   are structured, with some text (the (.*), an underscore (_), and then other text (.*). \n",
    "#   Note that the function is smart enough to recognize the pattern of our 1s and 2s, which\n",
    "#   are placed back into day.interviewed and removed from the variable names.)\n",
    "\n",
    "simple.df.longer <- simple.df.wide |>\n",
    "                        pivot_longer(x_1:treat_ordered_2, \n",
    "                                    names_to = c(\".value\", \"day.interviewed\"), \n",
    "                                    names_pattern = \"(.*)_(.*)\")\n",
    "simple.df.longer"
   ]
  },
  {
   "cell_type": "markdown",
   "id": "e7b2537c",
   "metadata": {},
   "source": [
    "Transposing is really quite difficult, and I typically need read the supporting documentation to figure out exactly how to do it. That's ok! You can always look up information about functions using the `help()` function in the console. Go ahead and try it! At the end of most help files will be examples. They aren't *always* that useful for new users, but they're at least a place to start. "
   ]
  },
  {
   "cell_type": "code",
   "execution_count": null,
   "id": "f20e3451",
   "metadata": {
    "vscode": {
     "languageId": "r"
    }
   },
   "outputs": [],
   "source": [
    "help(pivot_longer)"
   ]
  }
 ],
 "metadata": {
  "kernelspec": {
   "display_name": "R",
   "language": "R",
   "name": "ir"
  },
  "language_info": {
   "codemirror_mode": "r",
   "file_extension": ".r",
   "mimetype": "text/x-r-source",
   "name": "R",
   "pygments_lexer": "r",
   "version": "4.5.1"
  }
 },
 "nbformat": 4,
 "nbformat_minor": 5
}
